{
  "nbformat": 4,
  "nbformat_minor": 0,
  "metadata": {
    "colab": {
      "provenance": [],
      "authorship_tag": "ABX9TyOO2vDiDg5WtxsOo1cRf+I9",
      "include_colab_link": true
    },
    "kernelspec": {
      "name": "python3",
      "display_name": "Python 3"
    },
    "language_info": {
      "name": "python"
    }
  },
  "cells": [
    {
      "cell_type": "markdown",
      "metadata": {
        "id": "view-in-github",
        "colab_type": "text"
      },
      "source": [
        "<a href=\"https://colab.research.google.com/github/nambeuch/image-spam-catcher/blob/main/modele_3_Projet_synthese.ipynb\" target=\"_parent\"><img src=\"https://colab.research.google.com/assets/colab-badge.svg\" alt=\"Open In Colab\"/></a>"
      ]
    },
    {
      "cell_type": "code",
      "execution_count": null,
      "metadata": {
        "id": "6HaegnhPhRbC"
      },
      "outputs": [],
      "source": [
        "# Modèle 3 - Réseau de neurones convolutifs\n",
        "# par Christian Nambeu\n",
        "# Août 2023\n",
        "# Projet Synthèse: Classification automatisée d'images-pourriels\n",
        "# Utilisation d'Autokeras pour dériver un modèle de neurones convolutifs"
      ]
    },
    {
      "cell_type": "code",
      "source": [
        "!pip install autokeras"
      ],
      "metadata": {
        "id": "0aEyUp0AhUKd",
        "colab": {
          "base_uri": "https://localhost:8080/"
        },
        "outputId": "3ebabe67-2895-4540-821f-607ba2cd68f6"
      },
      "execution_count": null,
      "outputs": [
        {
          "output_type": "stream",
          "name": "stdout",
          "text": [
            "Collecting autokeras\n",
            "  Downloading autokeras-1.1.0-py3-none-any.whl (148 kB)\n",
            "\u001b[?25l     \u001b[90m━━━━━━━━━━━━━━━━━━━━━━━━━━━━━━━━━━━━━━━━\u001b[0m \u001b[32m0.0/148.6 kB\u001b[0m \u001b[31m?\u001b[0m eta \u001b[36m-:--:--\u001b[0m\r\u001b[2K     \u001b[91m━━━━━━━━━━━━━━━━━━━━━━━━\u001b[0m\u001b[91m╸\u001b[0m\u001b[90m━━━━━━━━━━━━━━━\u001b[0m \u001b[32m92.2/148.6 kB\u001b[0m \u001b[31m2.8 MB/s\u001b[0m eta \u001b[36m0:00:01\u001b[0m\r\u001b[2K     \u001b[90m━━━━━━━━━━━━━━━━━━━━━━━━━━━━━━━━━━━━━━━\u001b[0m \u001b[32m148.6/148.6 kB\u001b[0m \u001b[31m3.1 MB/s\u001b[0m eta \u001b[36m0:00:00\u001b[0m\n",
            "\u001b[?25hRequirement already satisfied: packaging in /usr/local/lib/python3.10/dist-packages (from autokeras) (23.1)\n",
            "Requirement already satisfied: tensorflow>=2.8.0 in /usr/local/lib/python3.10/dist-packages (from autokeras) (2.12.0)\n",
            "Collecting keras-tuner>=1.1.0 (from autokeras)\n",
            "  Downloading keras_tuner-1.3.5-py3-none-any.whl (176 kB)\n",
            "\u001b[2K     \u001b[90m━━━━━━━━━━━━━━━━━━━━━━━━━━━━━━━━━━━━━━━\u001b[0m \u001b[32m176.1/176.1 kB\u001b[0m \u001b[31m6.4 MB/s\u001b[0m eta \u001b[36m0:00:00\u001b[0m\n",
            "\u001b[?25hCollecting keras-nlp>=0.4.0 (from autokeras)\n",
            "  Downloading keras_nlp-0.6.1-py3-none-any.whl (573 kB)\n",
            "\u001b[2K     \u001b[90m━━━━━━━━━━━━━━━━━━━━━━━━━━━━━━━━━━━━━━━\u001b[0m \u001b[32m573.5/573.5 kB\u001b[0m \u001b[31m8.9 MB/s\u001b[0m eta \u001b[36m0:00:00\u001b[0m\n",
            "\u001b[?25hRequirement already satisfied: pandas in /usr/local/lib/python3.10/dist-packages (from autokeras) (1.5.3)\n",
            "Collecting keras-core (from keras-nlp>=0.4.0->autokeras)\n",
            "  Downloading keras_core-0.1.4-py3-none-any.whl (880 kB)\n",
            "\u001b[2K     \u001b[90m━━━━━━━━━━━━━━━━━━━━━━━━━━━━━━━━━━━━━━\u001b[0m \u001b[32m880.1/880.1 kB\u001b[0m \u001b[31m11.5 MB/s\u001b[0m eta \u001b[36m0:00:00\u001b[0m\n",
            "\u001b[?25hRequirement already satisfied: absl-py in /usr/local/lib/python3.10/dist-packages (from keras-nlp>=0.4.0->autokeras) (1.4.0)\n",
            "Requirement already satisfied: numpy in /usr/local/lib/python3.10/dist-packages (from keras-nlp>=0.4.0->autokeras) (1.23.5)\n",
            "Requirement already satisfied: regex in /usr/local/lib/python3.10/dist-packages (from keras-nlp>=0.4.0->autokeras) (2022.10.31)\n",
            "Requirement already satisfied: rich in /usr/local/lib/python3.10/dist-packages (from keras-nlp>=0.4.0->autokeras) (13.5.2)\n",
            "Collecting tensorflow-text (from keras-nlp>=0.4.0->autokeras)\n",
            "  Downloading tensorflow_text-2.13.0-cp310-cp310-manylinux_2_17_x86_64.manylinux2014_x86_64.whl (6.5 MB)\n",
            "\u001b[2K     \u001b[90m━━━━━━━━━━━━━━━━━━━━━━━━━━━━━━━━━━━━━━━━\u001b[0m \u001b[32m6.5/6.5 MB\u001b[0m \u001b[31m23.5 MB/s\u001b[0m eta \u001b[36m0:00:00\u001b[0m\n",
            "\u001b[?25hRequirement already satisfied: requests in /usr/local/lib/python3.10/dist-packages (from keras-tuner>=1.1.0->autokeras) (2.31.0)\n",
            "Collecting kt-legacy (from keras-tuner>=1.1.0->autokeras)\n",
            "  Downloading kt_legacy-1.0.5-py3-none-any.whl (9.6 kB)\n",
            "Requirement already satisfied: astunparse>=1.6.0 in /usr/local/lib/python3.10/dist-packages (from tensorflow>=2.8.0->autokeras) (1.6.3)\n",
            "Requirement already satisfied: flatbuffers>=2.0 in /usr/local/lib/python3.10/dist-packages (from tensorflow>=2.8.0->autokeras) (23.5.26)\n",
            "Requirement already satisfied: gast<=0.4.0,>=0.2.1 in /usr/local/lib/python3.10/dist-packages (from tensorflow>=2.8.0->autokeras) (0.4.0)\n",
            "Requirement already satisfied: google-pasta>=0.1.1 in /usr/local/lib/python3.10/dist-packages (from tensorflow>=2.8.0->autokeras) (0.2.0)\n",
            "Requirement already satisfied: grpcio<2.0,>=1.24.3 in /usr/local/lib/python3.10/dist-packages (from tensorflow>=2.8.0->autokeras) (1.56.2)\n",
            "Requirement already satisfied: h5py>=2.9.0 in /usr/local/lib/python3.10/dist-packages (from tensorflow>=2.8.0->autokeras) (3.8.0)\n",
            "Requirement already satisfied: jax>=0.3.15 in /usr/local/lib/python3.10/dist-packages (from tensorflow>=2.8.0->autokeras) (0.4.14)\n",
            "Requirement already satisfied: keras<2.13,>=2.12.0 in /usr/local/lib/python3.10/dist-packages (from tensorflow>=2.8.0->autokeras) (2.12.0)\n",
            "Requirement already satisfied: libclang>=13.0.0 in /usr/local/lib/python3.10/dist-packages (from tensorflow>=2.8.0->autokeras) (16.0.6)\n",
            "Requirement already satisfied: opt-einsum>=2.3.2 in /usr/local/lib/python3.10/dist-packages (from tensorflow>=2.8.0->autokeras) (3.3.0)\n",
            "Requirement already satisfied: protobuf!=4.21.0,!=4.21.1,!=4.21.2,!=4.21.3,!=4.21.4,!=4.21.5,<5.0.0dev,>=3.20.3 in /usr/local/lib/python3.10/dist-packages (from tensorflow>=2.8.0->autokeras) (3.20.3)\n",
            "Requirement already satisfied: setuptools in /usr/local/lib/python3.10/dist-packages (from tensorflow>=2.8.0->autokeras) (67.7.2)\n",
            "Requirement already satisfied: six>=1.12.0 in /usr/local/lib/python3.10/dist-packages (from tensorflow>=2.8.0->autokeras) (1.16.0)\n",
            "Requirement already satisfied: tensorboard<2.13,>=2.12 in /usr/local/lib/python3.10/dist-packages (from tensorflow>=2.8.0->autokeras) (2.12.3)\n",
            "Requirement already satisfied: tensorflow-estimator<2.13,>=2.12.0 in /usr/local/lib/python3.10/dist-packages (from tensorflow>=2.8.0->autokeras) (2.12.0)\n",
            "Requirement already satisfied: termcolor>=1.1.0 in /usr/local/lib/python3.10/dist-packages (from tensorflow>=2.8.0->autokeras) (2.3.0)\n",
            "Requirement already satisfied: typing-extensions>=3.6.6 in /usr/local/lib/python3.10/dist-packages (from tensorflow>=2.8.0->autokeras) (4.7.1)\n",
            "Requirement already satisfied: wrapt<1.15,>=1.11.0 in /usr/local/lib/python3.10/dist-packages (from tensorflow>=2.8.0->autokeras) (1.14.1)\n",
            "Requirement already satisfied: tensorflow-io-gcs-filesystem>=0.23.1 in /usr/local/lib/python3.10/dist-packages (from tensorflow>=2.8.0->autokeras) (0.33.0)\n",
            "Requirement already satisfied: python-dateutil>=2.8.1 in /usr/local/lib/python3.10/dist-packages (from pandas->autokeras) (2.8.2)\n",
            "Requirement already satisfied: pytz>=2020.1 in /usr/local/lib/python3.10/dist-packages (from pandas->autokeras) (2022.7.1)\n",
            "Requirement already satisfied: wheel<1.0,>=0.23.0 in /usr/local/lib/python3.10/dist-packages (from astunparse>=1.6.0->tensorflow>=2.8.0->autokeras) (0.41.0)\n",
            "Requirement already satisfied: ml-dtypes>=0.2.0 in /usr/local/lib/python3.10/dist-packages (from jax>=0.3.15->tensorflow>=2.8.0->autokeras) (0.2.0)\n",
            "Requirement already satisfied: scipy>=1.7 in /usr/local/lib/python3.10/dist-packages (from jax>=0.3.15->tensorflow>=2.8.0->autokeras) (1.10.1)\n",
            "Requirement already satisfied: google-auth<3,>=1.6.3 in /usr/local/lib/python3.10/dist-packages (from tensorboard<2.13,>=2.12->tensorflow>=2.8.0->autokeras) (2.17.3)\n",
            "Requirement already satisfied: google-auth-oauthlib<1.1,>=0.5 in /usr/local/lib/python3.10/dist-packages (from tensorboard<2.13,>=2.12->tensorflow>=2.8.0->autokeras) (1.0.0)\n",
            "Requirement already satisfied: markdown>=2.6.8 in /usr/local/lib/python3.10/dist-packages (from tensorboard<2.13,>=2.12->tensorflow>=2.8.0->autokeras) (3.4.4)\n",
            "Requirement already satisfied: tensorboard-data-server<0.8.0,>=0.7.0 in /usr/local/lib/python3.10/dist-packages (from tensorboard<2.13,>=2.12->tensorflow>=2.8.0->autokeras) (0.7.1)\n",
            "Requirement already satisfied: werkzeug>=1.0.1 in /usr/local/lib/python3.10/dist-packages (from tensorboard<2.13,>=2.12->tensorflow>=2.8.0->autokeras) (2.3.6)\n",
            "Requirement already satisfied: charset-normalizer<4,>=2 in /usr/local/lib/python3.10/dist-packages (from requests->keras-tuner>=1.1.0->autokeras) (3.2.0)\n",
            "Requirement already satisfied: idna<4,>=2.5 in /usr/local/lib/python3.10/dist-packages (from requests->keras-tuner>=1.1.0->autokeras) (3.4)\n",
            "Requirement already satisfied: urllib3<3,>=1.21.1 in /usr/local/lib/python3.10/dist-packages (from requests->keras-tuner>=1.1.0->autokeras) (1.26.16)\n",
            "Requirement already satisfied: certifi>=2017.4.17 in /usr/local/lib/python3.10/dist-packages (from requests->keras-tuner>=1.1.0->autokeras) (2023.7.22)\n",
            "Collecting namex (from keras-core->keras-nlp>=0.4.0->autokeras)\n",
            "  Downloading namex-0.0.7-py3-none-any.whl (5.8 kB)\n",
            "Requirement already satisfied: dm-tree in /usr/local/lib/python3.10/dist-packages (from keras-core->keras-nlp>=0.4.0->autokeras) (0.1.8)\n",
            "Requirement already satisfied: markdown-it-py>=2.2.0 in /usr/local/lib/python3.10/dist-packages (from rich->keras-nlp>=0.4.0->autokeras) (3.0.0)\n",
            "Requirement already satisfied: pygments<3.0.0,>=2.13.0 in /usr/local/lib/python3.10/dist-packages (from rich->keras-nlp>=0.4.0->autokeras) (2.14.0)\n",
            "Requirement already satisfied: tensorflow-hub>=0.8.0 in /usr/local/lib/python3.10/dist-packages (from tensorflow-text->keras-nlp>=0.4.0->autokeras) (0.14.0)\n",
            "Collecting tensorflow>=2.8.0 (from autokeras)\n",
            "  Downloading tensorflow-2.13.0-cp310-cp310-manylinux_2_17_x86_64.manylinux2014_x86_64.whl (524.1 MB)\n",
            "\u001b[2K     \u001b[90m━━━━━━━━━━━━━━━━━━━━━━━━━━━━━━━━━━━━━━━\u001b[0m \u001b[32m524.1/524.1 MB\u001b[0m \u001b[31m2.8 MB/s\u001b[0m eta \u001b[36m0:00:00\u001b[0m\n",
            "\u001b[?25hCollecting keras<2.14,>=2.13.1 (from tensorflow>=2.8.0->autokeras)\n",
            "  Downloading keras-2.13.1-py3-none-any.whl (1.7 MB)\n",
            "\u001b[2K     \u001b[90m━━━━━━━━━━━━━━━━━━━━━━━━━━━━━━━━━━━━━━━━\u001b[0m \u001b[32m1.7/1.7 MB\u001b[0m \u001b[31m32.8 MB/s\u001b[0m eta \u001b[36m0:00:00\u001b[0m\n",
            "\u001b[?25hCollecting tensorboard<2.14,>=2.13 (from tensorflow>=2.8.0->autokeras)\n",
            "  Downloading tensorboard-2.13.0-py3-none-any.whl (5.6 MB)\n",
            "\u001b[2K     \u001b[90m━━━━━━━━━━━━━━━━━━━━━━━━━━━━━━━━━━━━━━━━\u001b[0m \u001b[32m5.6/5.6 MB\u001b[0m \u001b[31m14.8 MB/s\u001b[0m eta \u001b[36m0:00:00\u001b[0m\n",
            "\u001b[?25hCollecting tensorflow-estimator<2.14,>=2.13.0 (from tensorflow>=2.8.0->autokeras)\n",
            "  Downloading tensorflow_estimator-2.13.0-py2.py3-none-any.whl (440 kB)\n",
            "\u001b[2K     \u001b[90m━━━━━━━━━━━━━━━━━━━━━━━━━━━━━━━━━━━━━━\u001b[0m \u001b[32m440.8/440.8 kB\u001b[0m \u001b[31m14.8 MB/s\u001b[0m eta \u001b[36m0:00:00\u001b[0m\n",
            "\u001b[?25hCollecting typing-extensions<4.6.0,>=3.6.6 (from tensorflow>=2.8.0->autokeras)\n",
            "  Downloading typing_extensions-4.5.0-py3-none-any.whl (27 kB)\n",
            "Requirement already satisfied: cachetools<6.0,>=2.0.0 in /usr/local/lib/python3.10/dist-packages (from google-auth<3,>=1.6.3->tensorboard<2.13,>=2.12->tensorflow>=2.8.0->autokeras) (5.3.1)\n",
            "Requirement already satisfied: pyasn1-modules>=0.2.1 in /usr/local/lib/python3.10/dist-packages (from google-auth<3,>=1.6.3->tensorboard<2.13,>=2.12->tensorflow>=2.8.0->autokeras) (0.3.0)\n",
            "Requirement already satisfied: rsa<5,>=3.1.4 in /usr/local/lib/python3.10/dist-packages (from google-auth<3,>=1.6.3->tensorboard<2.13,>=2.12->tensorflow>=2.8.0->autokeras) (4.9)\n",
            "Requirement already satisfied: requests-oauthlib>=0.7.0 in /usr/local/lib/python3.10/dist-packages (from google-auth-oauthlib<1.1,>=0.5->tensorboard<2.13,>=2.12->tensorflow>=2.8.0->autokeras) (1.3.1)\n",
            "Requirement already satisfied: mdurl~=0.1 in /usr/local/lib/python3.10/dist-packages (from markdown-it-py>=2.2.0->rich->keras-nlp>=0.4.0->autokeras) (0.1.2)\n",
            "Requirement already satisfied: MarkupSafe>=2.1.1 in /usr/local/lib/python3.10/dist-packages (from werkzeug>=1.0.1->tensorboard<2.13,>=2.12->tensorflow>=2.8.0->autokeras) (2.1.3)\n",
            "Requirement already satisfied: pyasn1<0.6.0,>=0.4.6 in /usr/local/lib/python3.10/dist-packages (from pyasn1-modules>=0.2.1->google-auth<3,>=1.6.3->tensorboard<2.13,>=2.12->tensorflow>=2.8.0->autokeras) (0.5.0)\n",
            "Requirement already satisfied: oauthlib>=3.0.0 in /usr/local/lib/python3.10/dist-packages (from requests-oauthlib>=0.7.0->google-auth-oauthlib<1.1,>=0.5->tensorboard<2.13,>=2.12->tensorflow>=2.8.0->autokeras) (3.2.2)\n",
            "Installing collected packages: namex, kt-legacy, typing-extensions, tensorflow-estimator, keras, keras-tuner, keras-core, tensorboard, tensorflow, tensorflow-text, keras-nlp, autokeras\n",
            "  Attempting uninstall: typing-extensions\n",
            "    Found existing installation: typing_extensions 4.7.1\n",
            "    Uninstalling typing_extensions-4.7.1:\n",
            "      Successfully uninstalled typing_extensions-4.7.1\n",
            "  Attempting uninstall: tensorflow-estimator\n",
            "    Found existing installation: tensorflow-estimator 2.12.0\n",
            "    Uninstalling tensorflow-estimator-2.12.0:\n",
            "      Successfully uninstalled tensorflow-estimator-2.12.0\n",
            "  Attempting uninstall: keras\n",
            "    Found existing installation: keras 2.12.0\n",
            "    Uninstalling keras-2.12.0:\n",
            "      Successfully uninstalled keras-2.12.0\n",
            "  Attempting uninstall: tensorboard\n",
            "    Found existing installation: tensorboard 2.12.3\n",
            "    Uninstalling tensorboard-2.12.3:\n",
            "      Successfully uninstalled tensorboard-2.12.3\n",
            "  Attempting uninstall: tensorflow\n",
            "    Found existing installation: tensorflow 2.12.0\n",
            "    Uninstalling tensorflow-2.12.0:\n",
            "      Successfully uninstalled tensorflow-2.12.0\n",
            "Successfully installed autokeras-1.1.0 keras-2.13.1 keras-core-0.1.4 keras-nlp-0.6.1 keras-tuner-1.3.5 kt-legacy-1.0.5 namex-0.0.7 tensorboard-2.13.0 tensorflow-2.13.0 tensorflow-estimator-2.13.0 tensorflow-text-2.13.0 typing-extensions-4.5.0\n"
          ]
        }
      ]
    },
    {
      "cell_type": "code",
      "source": [
        "# importer les librairies utiles\n",
        "import numpy as np\n",
        "import tensorflow as tf\n",
        "from tensorflow.keras.datasets import mnist\n",
        "\n",
        "import autokeras as ak\n",
        "import os\n",
        "from pathlib import Path"
      ],
      "metadata": {
        "colab": {
          "base_uri": "https://localhost:8080/"
        },
        "id": "wD3_FtFLhYHX",
        "outputId": "56eaf578-069a-4a32-fb40-db1de258ae84"
      },
      "execution_count": null,
      "outputs": [
        {
          "output_type": "stream",
          "name": "stdout",
          "text": [
            "Using TensorFlow backend\n"
          ]
        }
      ]
    },
    {
      "cell_type": "code",
      "source": [
        "# trouver l'emplacement par défaut\n",
        "print(os.getcwd())"
      ],
      "metadata": {
        "colab": {
          "base_uri": "https://localhost:8080/"
        },
        "id": "Ot-h0gm6hnXU",
        "outputId": "00c24b44-797e-4df1-f664-c2ba61488754"
      },
      "execution_count": null,
      "outputs": [
        {
          "output_type": "stream",
          "name": "stdout",
          "text": [
            "/content\n"
          ]
        }
      ]
    },
    {
      "cell_type": "code",
      "source": [
        "# voir le contenu du répertoire de travail\n",
        "!ls /content"
      ],
      "metadata": {
        "colab": {
          "base_uri": "https://localhost:8080/"
        },
        "id": "X3SbpKdOjBoG",
        "outputId": "9c701cf1-5f68-44db-fccc-ff73a3cc1663"
      },
      "execution_count": null,
      "outputs": [
        {
          "output_type": "stream",
          "name": "stdout",
          "text": [
            "sample_data\n"
          ]
        }
      ]
    },
    {
      "cell_type": "code",
      "source": [
        "root = Path(\"/root/.keras/datasets/\")"
      ],
      "metadata": {
        "id": "Jb0_1St3jcOw"
      },
      "execution_count": null,
      "outputs": []
    },
    {
      "cell_type": "code",
      "source": [
        "# télécharger les données sur disque - dans mon cas sous le répertoire /root/  ... dans gcollab\n",
        "\n",
        "# télécharger SPAM\n",
        "import pathlib\n",
        "dataset_url = \"https://www.cs.jhu.edu/~mdredze/datasets/image_spam/personal_image_spam.tar.gz\"\n",
        "tf.keras.utils.get_file(origin=dataset_url, extract=True) # les fichier sont stockés dans le répertoire /.keras/datasets par défaut"
      ],
      "metadata": {
        "colab": {
          "base_uri": "https://localhost:8080/",
          "height": 70
        },
        "id": "d9BpufOuhcjE",
        "outputId": "a1640021-4321-469c-8d3d-3c478b427353"
      },
      "execution_count": null,
      "outputs": [
        {
          "output_type": "stream",
          "name": "stdout",
          "text": [
            "Downloading data from https://www.cs.jhu.edu/~mdredze/datasets/image_spam/personal_image_spam.tar.gz\n",
            "29793833/29793833 [==============================] - 1s 0us/step\n"
          ]
        },
        {
          "output_type": "execute_result",
          "data": {
            "text/plain": [
              "'/root/.keras/datasets/personal_image_spam.tar.gz'"
            ],
            "application/vnd.google.colaboratory.intrinsic+json": {
              "type": "string"
            }
          },
          "metadata": {},
          "execution_count": 7
        }
      ]
    },
    {
      "cell_type": "code",
      "source": [
        "!ls /root/.keras/datasets/"
      ],
      "metadata": {
        "colab": {
          "base_uri": "https://localhost:8080/"
        },
        "id": "CR8Nc0vFuAvR",
        "outputId": "4eb5b849-2532-4b9e-8b25-5f7ff21f1dbd"
      },
      "execution_count": null,
      "outputs": [
        {
          "output_type": "stream",
          "name": "stdout",
          "text": [
            "personal_image_spam  personal_image_spam.tar.gz\n"
          ]
        }
      ]
    },
    {
      "cell_type": "code",
      "source": [
        "# télécharger HAM\n",
        "dataset_url = \"https://www.cs.jhu.edu/~mdredze/datasets/image_spam/personal_image_ham.tar.gz\"\n",
        "tf.keras.utils.get_file(origin=dataset_url, extract=True)\n",
        "#data_dir = pathlib.Path(data_dir).with_suffix('')"
      ],
      "metadata": {
        "colab": {
          "base_uri": "https://localhost:8080/",
          "height": 70
        },
        "id": "-M93zdZtirRD",
        "outputId": "e75a61be-b291-4271-fb37-843d0a67553c"
      },
      "execution_count": null,
      "outputs": [
        {
          "output_type": "stream",
          "name": "stdout",
          "text": [
            "Downloading data from https://www.cs.jhu.edu/~mdredze/datasets/image_spam/personal_image_ham.tar.gz\n",
            "112047863/112047863 [==============================] - 10s 0us/step\n"
          ]
        },
        {
          "output_type": "execute_result",
          "data": {
            "text/plain": [
              "'/root/.keras/datasets/personal_image_ham.tar.gz'"
            ],
            "application/vnd.google.colaboratory.intrinsic+json": {
              "type": "string"
            }
          },
          "metadata": {},
          "execution_count": 9
        }
      ]
    },
    {
      "cell_type": "code",
      "source": [
        "# creer une dossier et copier les deux répertoires dedans\n",
        "!mkdir /root/.keras/datasets/data_image\n",
        "# déplacer le dossier de-zipper personal_image_ham dans le répertoire daa_image\n",
        "!mv /root/.keras/datasets/personal_image_ham/ /root/.keras/datasets/data_image\n",
        "# faire de même pour le dossier personal_image_spam\n",
        "!mv /root/.keras/datasets/personal_image_spam/ /root/.keras/datasets/data_image"
      ],
      "metadata": {
        "id": "-eOWM5PZtKD9"
      },
      "execution_count": null,
      "outputs": []
    },
    {
      "cell_type": "code",
      "source": [
        "# supprimer les dossiers zippés pour faire de l'espace.\n",
        "!rm -r /root/.keras/datasets/personal_image_spam.tar.gz\n",
        "!rm -r /root/.keras/datasets/personal_image_ham.tar.gz"
      ],
      "metadata": {
        "id": "PhKwNQN5jPvj"
      },
      "execution_count": null,
      "outputs": []
    },
    {
      "cell_type": "code",
      "source": [
        "# voir ce qui reste le répertoire datasets de /.keras/datasets\n",
        "!ls /root/.keras/datasets/"
      ],
      "metadata": {
        "colab": {
          "base_uri": "https://localhost:8080/"
        },
        "id": "U_cq19vUj7Ws",
        "outputId": "ba454206-2832-4ef8-cb72-52924b3afb5e"
      },
      "execution_count": null,
      "outputs": [
        {
          "output_type": "stream",
          "name": "stdout",
          "text": [
            "data_image\n"
          ]
        }
      ]
    },
    {
      "cell_type": "code",
      "source": [
        "num_skipped = 0\n",
        "# ce bout de code loop sur l'ensemble des images. Les images qui ne sont pas compatibles au format JFIF sont supprimées.\n",
        "# le format JFIF est un standard qui s'applique aux images avec une extension JPEG\n",
        "\n",
        "for folder_name in (\"personal_image_ham\", \"personal_image_spam\"):\n",
        "    folder_path = os.path.join(root,\"data_image\", folder_name)\n",
        "    for fname in os.listdir(folder_path):\n",
        "        fpath = os.path.join(folder_path, fname)\n",
        "        try:\n",
        "            fobj = open(fpath, \"rb\")\n",
        "            is_jfif = tf.compat.as_bytes(\"JFIF\") in fobj.peek(10)\n",
        "        finally:\n",
        "            fobj.close()\n",
        "\n",
        "        if not is_jfif:\n",
        "            num_skipped += 1\n",
        "            # Delete corrupted image\n",
        "            os.remove(fpath)\n",
        "\n",
        "print(\"Deleted %d images\" % num_skipped)"
      ],
      "metadata": {
        "colab": {
          "base_uri": "https://localhost:8080/"
        },
        "id": "vgOVugx9kDKq",
        "outputId": "c6230ae6-5f95-4d95-d7a2-907028a86905"
      },
      "execution_count": null,
      "outputs": [
        {
          "output_type": "stream",
          "name": "stdout",
          "text": [
            "Deleted 3992 images\n"
          ]
        }
      ]
    },
    {
      "cell_type": "code",
      "source": [
        "# dimensions de l'image et le nombre de lots\n",
        "image_size = (180, 180)\n",
        "batch_size = 64"
      ],
      "metadata": {
        "id": "MsFQdv4_kTLl"
      },
      "execution_count": null,
      "outputs": []
    },
    {
      "cell_type": "code",
      "source": [
        "# sélection de l'ensemble d'apprentissage\n",
        "train_ds = ak.image_dataset_from_directory(\n",
        "    \"/root/.keras/datasets/data_image\",\n",
        "    validation_split=0.2,\n",
        "    subset=\"training\",\n",
        "    seed=1337,\n",
        "    image_size=image_size,\n",
        "    batch_size=batch_size,\n",
        ")"
      ],
      "metadata": {
        "colab": {
          "base_uri": "https://localhost:8080/"
        },
        "id": "JXBSesj3kb89",
        "outputId": "0df6716a-8da3-4663-8e58-e5f9c3489f30"
      },
      "execution_count": null,
      "outputs": [
        {
          "output_type": "stream",
          "name": "stdout",
          "text": [
            "Found 1281 files belonging to 2 classes.\n",
            "Using 1025 files for training.\n"
          ]
        }
      ]
    },
    {
      "cell_type": "code",
      "source": [
        "# sélection de l'ensemble test/validation\n",
        "val_ds = ak.image_dataset_from_directory(\n",
        "    \"/root/.keras/datasets/data_image\",\n",
        "    validation_split=0.2,\n",
        "    subset=\"validation\",\n",
        "    seed=1337,\n",
        "    image_size=image_size,\n",
        "    batch_size=batch_size,\n",
        ")"
      ],
      "metadata": {
        "colab": {
          "base_uri": "https://localhost:8080/"
        },
        "id": "MDu8iBoUkhIG",
        "outputId": "11cab208-1435-4db0-8cfe-f5d1c230fe8b"
      },
      "execution_count": null,
      "outputs": [
        {
          "output_type": "stream",
          "name": "stdout",
          "text": [
            "Found 1281 files belonging to 2 classes.\n",
            "Using 256 files for validation.\n"
          ]
        }
      ]
    },
    {
      "cell_type": "code",
      "source": [
        "#  initialisation du classificateur d'images\n",
        "clf = ak.ImageClassifier(overwrite=True, max_trials=1, project_name= \"Image-Spam\")"
      ],
      "metadata": {
        "id": "rKlF903AknIu"
      },
      "execution_count": null,
      "outputs": []
    },
    {
      "cell_type": "code",
      "source": [
        "# ajuster le classificateur avec les échantillons d'apprentissage\n",
        "clf.fit(train_ds, epochs=5)"
      ],
      "metadata": {
        "colab": {
          "base_uri": "https://localhost:8080/"
        },
        "id": "iqMxicsQk2yo",
        "outputId": "1fa8cd4c-ddf2-4bb7-e539-09bb6b00bc40"
      },
      "execution_count": null,
      "outputs": [
        {
          "output_type": "stream",
          "name": "stdout",
          "text": [
            "Trial 1 Complete [00h 15m 14s]\n",
            "val_loss: 0.13127247989177704\n",
            "\n",
            "Best val_loss So Far: 0.13127247989177704\n",
            "Total elapsed time: 00h 15m 14s\n",
            "Epoch 1/5\n",
            "17/17 [==============================] - 173s 10s/step - loss: 1.3175 - accuracy: 0.8800\n",
            "Epoch 2/5\n",
            "17/17 [==============================] - 162s 9s/step - loss: 0.1601 - accuracy: 0.9512\n",
            "Epoch 3/5\n",
            "17/17 [==============================] - 165s 10s/step - loss: 0.0855 - accuracy: 0.9727\n",
            "Epoch 4/5\n",
            "17/17 [==============================] - 165s 10s/step - loss: 0.0400 - accuracy: 0.9863\n",
            "Epoch 5/5\n",
            "17/17 [==============================] - 176s 10s/step - loss: 0.0155 - accuracy: 0.9941\n"
          ]
        },
        {
          "output_type": "execute_result",
          "data": {
            "text/plain": [
              "<keras.src.callbacks.History at 0x79785ff2ee90>"
            ]
          },
          "metadata": {},
          "execution_count": 18
        }
      ]
    },
    {
      "cell_type": "code",
      "source": [
        "# prédiction avec le meilleur modèle\n",
        "predicted_y = clf.predict(val_ds)\n",
        "print(predicted_y)"
      ],
      "metadata": {
        "id": "nVluW_6wlB0B",
        "colab": {
          "base_uri": "https://localhost:8080/"
        },
        "outputId": "90b1a79d-05f3-4489-c85a-8c1d4324c899"
      },
      "execution_count": null,
      "outputs": [
        {
          "output_type": "stream",
          "name": "stdout",
          "text": [
            "4/4 [==============================] - 12s 3s/step\n",
            "4/4 [==============================] - 10s 2s/step\n",
            "[['personal_image_ham']\n",
            " ['personal_image_ham']\n",
            " ['personal_image_ham']\n",
            " ['personal_image_ham']\n",
            " ['personal_image_ham']\n",
            " ['personal_image_ham']\n",
            " ['personal_image_ham']\n",
            " ['personal_image_ham']\n",
            " ['personal_image_ham']\n",
            " ['personal_image_ham']\n",
            " ['personal_image_ham']\n",
            " ['personal_image_spam']\n",
            " ['personal_image_ham']\n",
            " ['personal_image_ham']\n",
            " ['personal_image_ham']\n",
            " ['personal_image_ham']\n",
            " ['personal_image_ham']\n",
            " ['personal_image_ham']\n",
            " ['personal_image_ham']\n",
            " ['personal_image_ham']\n",
            " ['personal_image_ham']\n",
            " ['personal_image_ham']\n",
            " ['personal_image_ham']\n",
            " ['personal_image_ham']\n",
            " ['personal_image_ham']\n",
            " ['personal_image_ham']\n",
            " ['personal_image_ham']\n",
            " ['personal_image_ham']\n",
            " ['personal_image_ham']\n",
            " ['personal_image_ham']\n",
            " ['personal_image_ham']\n",
            " ['personal_image_spam']\n",
            " ['personal_image_spam']\n",
            " ['personal_image_ham']\n",
            " ['personal_image_ham']\n",
            " ['personal_image_ham']\n",
            " ['personal_image_ham']\n",
            " ['personal_image_ham']\n",
            " ['personal_image_spam']\n",
            " ['personal_image_ham']\n",
            " ['personal_image_ham']\n",
            " ['personal_image_ham']\n",
            " ['personal_image_ham']\n",
            " ['personal_image_ham']\n",
            " ['personal_image_ham']\n",
            " ['personal_image_ham']\n",
            " ['personal_image_ham']\n",
            " ['personal_image_ham']\n",
            " ['personal_image_ham']\n",
            " ['personal_image_ham']\n",
            " ['personal_image_ham']\n",
            " ['personal_image_ham']\n",
            " ['personal_image_ham']\n",
            " ['personal_image_ham']\n",
            " ['personal_image_ham']\n",
            " ['personal_image_spam']\n",
            " ['personal_image_ham']\n",
            " ['personal_image_ham']\n",
            " ['personal_image_ham']\n",
            " ['personal_image_ham']\n",
            " ['personal_image_ham']\n",
            " ['personal_image_ham']\n",
            " ['personal_image_ham']\n",
            " ['personal_image_ham']\n",
            " ['personal_image_ham']\n",
            " ['personal_image_ham']\n",
            " ['personal_image_ham']\n",
            " ['personal_image_ham']\n",
            " ['personal_image_ham']\n",
            " ['personal_image_ham']\n",
            " ['personal_image_ham']\n",
            " ['personal_image_ham']\n",
            " ['personal_image_ham']\n",
            " ['personal_image_ham']\n",
            " ['personal_image_ham']\n",
            " ['personal_image_ham']\n",
            " ['personal_image_ham']\n",
            " ['personal_image_ham']\n",
            " ['personal_image_ham']\n",
            " ['personal_image_ham']\n",
            " ['personal_image_ham']\n",
            " ['personal_image_ham']\n",
            " ['personal_image_ham']\n",
            " ['personal_image_spam']\n",
            " ['personal_image_ham']\n",
            " ['personal_image_spam']\n",
            " ['personal_image_spam']\n",
            " ['personal_image_ham']\n",
            " ['personal_image_ham']\n",
            " ['personal_image_ham']\n",
            " ['personal_image_ham']\n",
            " ['personal_image_ham']\n",
            " ['personal_image_ham']\n",
            " ['personal_image_ham']\n",
            " ['personal_image_ham']\n",
            " ['personal_image_ham']\n",
            " ['personal_image_ham']\n",
            " ['personal_image_ham']\n",
            " ['personal_image_ham']\n",
            " ['personal_image_ham']\n",
            " ['personal_image_ham']\n",
            " ['personal_image_ham']\n",
            " ['personal_image_ham']\n",
            " ['personal_image_ham']\n",
            " ['personal_image_ham']\n",
            " ['personal_image_ham']\n",
            " ['personal_image_ham']\n",
            " ['personal_image_ham']\n",
            " ['personal_image_ham']\n",
            " ['personal_image_ham']\n",
            " ['personal_image_ham']\n",
            " ['personal_image_ham']\n",
            " ['personal_image_ham']\n",
            " ['personal_image_ham']\n",
            " ['personal_image_ham']\n",
            " ['personal_image_ham']\n",
            " ['personal_image_ham']\n",
            " ['personal_image_spam']\n",
            " ['personal_image_ham']\n",
            " ['personal_image_ham']\n",
            " ['personal_image_ham']\n",
            " ['personal_image_ham']\n",
            " ['personal_image_ham']\n",
            " ['personal_image_ham']\n",
            " ['personal_image_ham']\n",
            " ['personal_image_ham']\n",
            " ['personal_image_ham']\n",
            " ['personal_image_ham']\n",
            " ['personal_image_ham']\n",
            " ['personal_image_spam']\n",
            " ['personal_image_ham']\n",
            " ['personal_image_ham']\n",
            " ['personal_image_spam']\n",
            " ['personal_image_ham']\n",
            " ['personal_image_ham']\n",
            " ['personal_image_ham']\n",
            " ['personal_image_ham']\n",
            " ['personal_image_ham']\n",
            " ['personal_image_ham']\n",
            " ['personal_image_ham']\n",
            " ['personal_image_ham']\n",
            " ['personal_image_ham']\n",
            " ['personal_image_ham']\n",
            " ['personal_image_ham']\n",
            " ['personal_image_ham']\n",
            " ['personal_image_spam']\n",
            " ['personal_image_ham']\n",
            " ['personal_image_ham']\n",
            " ['personal_image_ham']\n",
            " ['personal_image_ham']\n",
            " ['personal_image_ham']\n",
            " ['personal_image_ham']\n",
            " ['personal_image_ham']\n",
            " ['personal_image_spam']\n",
            " ['personal_image_ham']\n",
            " ['personal_image_ham']\n",
            " ['personal_image_ham']\n",
            " ['personal_image_spam']\n",
            " ['personal_image_ham']\n",
            " ['personal_image_ham']\n",
            " ['personal_image_ham']\n",
            " ['personal_image_ham']\n",
            " ['personal_image_ham']\n",
            " ['personal_image_ham']\n",
            " ['personal_image_ham']\n",
            " ['personal_image_ham']\n",
            " ['personal_image_ham']\n",
            " ['personal_image_ham']\n",
            " ['personal_image_spam']\n",
            " ['personal_image_ham']\n",
            " ['personal_image_ham']\n",
            " ['personal_image_ham']\n",
            " ['personal_image_ham']\n",
            " ['personal_image_ham']\n",
            " ['personal_image_ham']\n",
            " ['personal_image_ham']\n",
            " ['personal_image_ham']\n",
            " ['personal_image_spam']\n",
            " ['personal_image_ham']\n",
            " ['personal_image_ham']\n",
            " ['personal_image_ham']\n",
            " ['personal_image_ham']\n",
            " ['personal_image_ham']\n",
            " ['personal_image_ham']\n",
            " ['personal_image_ham']\n",
            " ['personal_image_ham']\n",
            " ['personal_image_ham']\n",
            " ['personal_image_ham']\n",
            " ['personal_image_ham']\n",
            " ['personal_image_ham']\n",
            " ['personal_image_ham']\n",
            " ['personal_image_spam']\n",
            " ['personal_image_ham']\n",
            " ['personal_image_ham']\n",
            " ['personal_image_ham']\n",
            " ['personal_image_ham']\n",
            " ['personal_image_ham']\n",
            " ['personal_image_ham']\n",
            " ['personal_image_ham']\n",
            " ['personal_image_ham']\n",
            " ['personal_image_ham']\n",
            " ['personal_image_ham']\n",
            " ['personal_image_ham']\n",
            " ['personal_image_ham']\n",
            " ['personal_image_ham']\n",
            " ['personal_image_ham']\n",
            " ['personal_image_ham']\n",
            " ['personal_image_spam']\n",
            " ['personal_image_ham']\n",
            " ['personal_image_ham']\n",
            " ['personal_image_ham']\n",
            " ['personal_image_ham']\n",
            " ['personal_image_ham']\n",
            " ['personal_image_ham']\n",
            " ['personal_image_ham']\n",
            " ['personal_image_spam']\n",
            " ['personal_image_ham']\n",
            " ['personal_image_ham']\n",
            " ['personal_image_ham']\n",
            " ['personal_image_ham']\n",
            " ['personal_image_ham']\n",
            " ['personal_image_ham']\n",
            " ['personal_image_ham']\n",
            " ['personal_image_ham']\n",
            " ['personal_image_ham']\n",
            " ['personal_image_ham']\n",
            " ['personal_image_ham']\n",
            " ['personal_image_ham']\n",
            " ['personal_image_ham']\n",
            " ['personal_image_ham']\n",
            " ['personal_image_ham']\n",
            " ['personal_image_ham']\n",
            " ['personal_image_ham']\n",
            " ['personal_image_spam']\n",
            " ['personal_image_ham']\n",
            " ['personal_image_ham']\n",
            " ['personal_image_ham']\n",
            " ['personal_image_ham']\n",
            " ['personal_image_ham']\n",
            " ['personal_image_ham']\n",
            " ['personal_image_ham']\n",
            " ['personal_image_ham']\n",
            " ['personal_image_ham']\n",
            " ['personal_image_ham']\n",
            " ['personal_image_ham']\n",
            " ['personal_image_ham']\n",
            " ['personal_image_ham']\n",
            " ['personal_image_ham']\n",
            " ['personal_image_ham']\n",
            " ['personal_image_ham']\n",
            " ['personal_image_ham']\n",
            " ['personal_image_spam']\n",
            " ['personal_image_spam']\n",
            " ['personal_image_ham']\n",
            " ['personal_image_ham']\n",
            " ['personal_image_spam']]\n"
          ]
        }
      ]
    },
    {
      "cell_type": "code",
      "source": [
        "# Évaluation du meilleur modèle - Les différentes métriques sont calculées.\n",
        "print(clf.evaluate(val_ds))"
      ],
      "metadata": {
        "colab": {
          "base_uri": "https://localhost:8080/"
        },
        "id": "3Ux2_QXqlPvJ",
        "outputId": "7ac33948-d153-4bf8-b77f-9a04da0349d0"
      },
      "execution_count": null,
      "outputs": [
        {
          "output_type": "stream",
          "name": "stdout",
          "text": [
            "4/4 [==============================] - 14s 3s/step - loss: 0.0103 - accuracy: 0.9961\n",
            "[0.010303480550646782, 0.99609375]\n"
          ]
        }
      ]
    },
    {
      "cell_type": "code",
      "source": [
        "# exporter le modèle\n",
        "model = clf.export_model()"
      ],
      "metadata": {
        "id": "uKTisnb1mY8i"
      },
      "execution_count": null,
      "outputs": []
    },
    {
      "cell_type": "code",
      "source": [],
      "metadata": {
        "id": "-5qHNhWcmZJZ"
      },
      "execution_count": null,
      "outputs": []
    },
    {
      "cell_type": "markdown",
      "source": [
        "Utilisation du modèle"
      ],
      "metadata": {
        "id": "n6E2s6n9mdGz"
      }
    },
    {
      "cell_type": "code",
      "source": [
        "# les images se trouvent dans /root/.keras/datasets/personal_image_ham et ----/--spam\n",
        "import random\n",
        "def load_randomly_image(folder_path, image_size):\n",
        "  file_paths = []\n",
        "  if os.path.exists(folder_path) and os.path.isdir(folder_path):\n",
        "        for root, dirs, files in os.walk(folder_path):\n",
        "            for file in files:\n",
        "                file_paths.append(os.path.join(root, file))\n",
        "  else:\n",
        "        print(\"Folder path does not exist or is not a directory.\")\n",
        "\n",
        "  list_length = len(file_paths)\n",
        "  random_num = random.randint(1, list_length)\n",
        "  a = file_paths[random_num]\n",
        "  pick_path = os.path.join(a)\n",
        "  # get the names of all the files in the folder\n",
        "  img = tf.keras.utils.load_img(\n",
        "    pick_path, target_size=image_size\n",
        "  )\n",
        "  return img"
      ],
      "metadata": {
        "id": "QkJDpj4mme0Q"
      },
      "execution_count": null,
      "outputs": []
    },
    {
      "cell_type": "code",
      "source": [
        "load_randomly_image(\"/root/.keras/datasets/data_image/personal_image_ham\", image_size = image_size)"
      ],
      "metadata": {
        "colab": {
          "base_uri": "https://localhost:8080/",
          "height": 197
        },
        "id": "n8dYoPz4qD5Z",
        "outputId": "6c6a4dd5-ee5b-410f-91f2-8bf07a4b0fe5"
      },
      "execution_count": null,
      "outputs": [
        {
          "output_type": "execute_result",
          "data": {
            "text/plain": [
              "<PIL.Image.Image image mode=RGB size=180x180>"
            ],
            "image/png": "[encoded data removed]"
          },
          "metadata": {},
          "execution_count": 23
        }
      ]
    },
    {
      "cell_type": "code",
      "source": [
        "img_ham = load_randomly_image(\"/root/.keras/datasets/data_image/personal_image_ham\", image_size = image_size)\n",
        "img_spam = load_randomly_image(\"/root/.keras/datasets/data_image/personal_image_spam\", image_size = image_size)"
      ],
      "metadata": {
        "id": "cZqBiwEzqQ3T"
      },
      "execution_count": null,
      "outputs": []
    },
    {
      "cell_type": "code",
      "source": [
        "# convertir l'image en array - HAM\n",
        "img_array = tf.keras.utils.img_to_array(img_ham)\n",
        "img_array = tf.expand_dims(img_array, 0)  # Create batch axis"
      ],
      "metadata": {
        "id": "FxpAX-ZAriti"
      },
      "execution_count": null,
      "outputs": []
    },
    {
      "cell_type": "code",
      "source": [
        "#faire des prédictions avec le meilleur modèle pour un HAM\n",
        "print(\"Vraie valeur HAM\")\n",
        "predictions = model.predict(img_array)\n",
        "probability = float(predictions[0])\n",
        "print(f\"This image is {100 * (1 - probability):.2f}% ham and {100 * probability:.2f}% spam.\")"
      ],
      "metadata": {
        "colab": {
          "base_uri": "https://localhost:8080/"
        },
        "id": "TF-RrM_irspa",
        "outputId": "1f1a80af-272d-4c56-b38b-54f2da787a93"
      },
      "execution_count": null,
      "outputs": [
        {
          "output_type": "stream",
          "name": "stdout",
          "text": [
            "Vraie valeur HAM\n",
            "1/1 [==============================] - 0s 229ms/step\n",
            "This image is 99.96% ham and 0.04% spam.\n"
          ]
        }
      ]
    },
    {
      "cell_type": "code",
      "source": [
        "# convertir l'image en array - spam\n",
        "img_array = tf.keras.utils.img_to_array(img_spam)\n",
        "img_array = tf.expand_dims(img_array, 0)  # Create batch axis"
      ],
      "metadata": {
        "id": "Lz7H45D7sDze"
      },
      "execution_count": null,
      "outputs": []
    },
    {
      "cell_type": "code",
      "source": [
        "print(\"Vraie valeur SPAM\")\n",
        "predictions = model.predict(img_array)\n",
        "score = float(predictions[0])\n",
        "print(f\"This image is {100 * (1 - score):.2f}% ham and {100 * score:.2f}% spam.\")"
      ],
      "metadata": {
        "colab": {
          "base_uri": "https://localhost:8080/"
        },
        "id": "5GaIO9V_sPQf",
        "outputId": "3b42747e-fa04-4b62-f8ed-b895caa78236"
      },
      "execution_count": null,
      "outputs": [
        {
          "output_type": "stream",
          "name": "stdout",
          "text": [
            "Vraie valeur SPAM\n",
            "1/1 [==============================] - 0s 114ms/step\n",
            "This image is 2.05% ham and 97.95% spam.\n"
          ]
        }
      ]
    },
    {
      "cell_type": "code",
      "source": [
        "img_spam"
      ],
      "metadata": {
        "colab": {
          "base_uri": "https://localhost:8080/",
          "height": 197
        },
        "id": "zsYyk9nF5mmp",
        "outputId": "45b3c5ae-3451-4a19-e5da-5338802fe08b"
      },
      "execution_count": null,
      "outputs": [
        {
          "output_type": "execute_result",
          "data": {
            "text/plain": [
              "<PIL.Image.Image image mode=RGB size=180x180>"
            ],
            "image/png": "[encoded data removed]"
          },
          "metadata": {},
          "execution_count": 29
        }
      ]
    },
    {
      "cell_type": "code",
      "source": [
        "img_ham"
      ],
      "metadata": {
        "colab": {
          "base_uri": "https://localhost:8080/",
          "height": 197
        },
        "id": "MOawlK785nxv",
        "outputId": "a061b870-8937-4168-c0c0-8ea08ebbc17a"
      },
      "execution_count": null,
      "outputs": [
        {
          "output_type": "execute_result",
          "data": {
            "text/plain": [
              "<PIL.Image.Image image mode=RGB size=180x180>"
            ],
            "image/png": "[encoded data removed]"
          },
          "metadata": {},
          "execution_count": 30
        }
      ]
    },
    {
      "cell_type": "code",
      "source": [],
      "metadata": {
        "id": "rKL6AqIM5vmf"
      },
      "execution_count": null,
      "outputs": []
    },
    {
      "cell_type": "markdown",
      "source": [
        "Résumé du modèle obtenu"
      ],
      "metadata": {
        "id": "_nw4oo767j-l"
      }
    },
    {
      "cell_type": "code",
      "source": [
        "# sauvegarde du meilleur modèle\n",
        "model.save(\"model_autokeras\", save_format = \"tf\")"
      ],
      "metadata": {
        "id": "QUEnP_KE7nID"
      },
      "execution_count": null,
      "outputs": []
    },
    {
      "cell_type": "code",
      "source": [
        "# tester si le modèle sauvegardé peut être utilisé\n",
        "from tensorflow.keras.models import load_model"
      ],
      "metadata": {
        "id": "hkhd0awQ78Hf"
      },
      "execution_count": null,
      "outputs": []
    },
    {
      "cell_type": "code",
      "source": [
        "def getPrediction(image):\n",
        "  # load le modèle\n",
        "  loaded_model = load_model(\"model_autokeras\", custom_objects=ak.CUSTOM_OBJECTS) # on télécharge avec les objets customisés\n",
        "  # convertit les features en array\n",
        "  img_array = tf.keras.utils.img_to_array(image)\n",
        "  img_array = tf.expand_dims(img_array, 0)  # Create batch axis\n",
        "\n",
        "  predictions = model.predict(img_array) # obtient la probabilité spam\n",
        "  probability = float(predictions[0])\n",
        "  print(f\"This image is {100 * (1 - probability):.2f}% ham and {100 * probability:.2f}% spam.\")\n",
        "  return (probability > 0.5, probability)"
      ],
      "metadata": {
        "id": "DctTdngx88x6"
      },
      "execution_count": null,
      "outputs": []
    },
    {
      "cell_type": "code",
      "source": [
        "result = getPrediction(img_spam)"
      ],
      "metadata": {
        "colab": {
          "base_uri": "https://localhost:8080/"
        },
        "id": "HqeYyQjd91CH",
        "outputId": "8c662b63-b489-4d01-a0e5-9105e62a3b4b"
      },
      "execution_count": null,
      "outputs": [
        {
          "output_type": "stream",
          "name": "stdout",
          "text": [
            "1/1 [==============================] - 0s 76ms/step\n",
            "This image is 2.05% ham and 97.95% spam.\n"
          ]
        }
      ]
    },
    {
      "cell_type": "code",
      "source": [
        "print(result)"
      ],
      "metadata": {
        "colab": {
          "base_uri": "https://localhost:8080/"
        },
        "id": "Arl5XrRu-f-I",
        "outputId": "e1b4929b-d0d2-4406-9fa8-b40696749868"
      },
      "execution_count": null,
      "outputs": [
        {
          "output_type": "stream",
          "name": "stdout",
          "text": [
            "(True, 0.9795439839363098)\n"
          ]
        }
      ]
    },
    {
      "cell_type": "code",
      "source": [
        "# Architecture du modèle\n",
        "model.summary()"
      ],
      "metadata": {
        "colab": {
          "base_uri": "https://localhost:8080/"
        },
        "id": "j1rzVHDv-g5N",
        "outputId": "b5d926b2-a098-4675-b4aa-dfb79c2eb8c5"
      },
      "execution_count": null,
      "outputs": [
        {
          "output_type": "stream",
          "name": "stdout",
          "text": [
            "Model: \"model\"\n",
            "_________________________________________________________________\n",
            " Layer (type)                Output Shape              Param #   \n",
            "=================================================================\n",
            " input_1 (InputLayer)        [(None, 180, 180, 3)]     0         \n",
            "                                                                 \n",
            " cast_to_float32 (CastToFlo  (None, 180, 180, 3)       0         \n",
            " at32)                                                           \n",
            "                                                                 \n",
            " normalization (Normalizati  (None, 180, 180, 3)       7         \n",
            " on)                                                             \n",
            "                                                                 \n",
            " conv2d (Conv2D)             (None, 178, 178, 32)      896       \n",
            "                                                                 \n",
            " conv2d_1 (Conv2D)           (None, 176, 176, 64)      18496     \n",
            "                                                                 \n",
            " max_pooling2d (MaxPooling2  (None, 88, 88, 64)        0         \n",
            " D)                                                              \n",
            "                                                                 \n",
            " dropout (Dropout)           (None, 88, 88, 64)        0         \n",
            "                                                                 \n",
            " flatten (Flatten)           (None, 495616)            0         \n",
            "                                                                 \n",
            " dropout_1 (Dropout)         (None, 495616)            0         \n",
            "                                                                 \n",
            " dense (Dense)               (None, 1)                 495617    \n",
            "                                                                 \n",
            " classification_head_1 (Act  (None, 1)                 0         \n",
            " ivation)                                                        \n",
            "                                                                 \n",
            "=================================================================\n",
            "Total params: 515016 (1.96 MB)\n",
            "Trainable params: 515009 (1.96 MB)\n",
            "Non-trainable params: 7 (32.00 Byte)\n",
            "_________________________________________________________________\n"
          ]
        }
      ]
    },
    {
      "cell_type": "code",
      "source": [
        "# sauvegarder le modèle localement pour le déploiement sur le web.\n",
        "# noter que le modèle est enregistré dans un dossier non-zippé - et pas facile de le copier localement facilement\n",
        "# je vais le zipper et ensuite le copier sur ma machine localement et ensuite préparer les fichiers pour Keroku.\n",
        "\n",
        "from google.colab import files\n",
        "\n",
        "!zip -r /content/model_autokeras.zip /content/model_autokeras/"
      ],
      "metadata": {
        "colab": {
          "base_uri": "https://localhost:8080/"
        },
        "id": "I9icpVQR-vVO",
        "outputId": "548109b9-6831-4e19-b089-92e15cbaa6dc"
      },
      "execution_count": null,
      "outputs": [
        {
          "output_type": "stream",
          "name": "stdout",
          "text": [
            "updating: content/model_autokeras/ (stored 0%)\n",
            "  adding: content/model_autokeras/assets/ (stored 0%)\n",
            "  adding: content/model_autokeras/fingerprint.pb (stored 0%)\n",
            "  adding: content/model_autokeras/keras_metadata.pb (deflated 89%)\n",
            "  adding: content/model_autokeras/saved_model.pb (deflated 86%)\n",
            "  adding: content/model_autokeras/variables/ (stored 0%)\n",
            "  adding: content/model_autokeras/variables/variables.index (deflated 55%)\n",
            "  adding: content/model_autokeras/variables/variables.data-00000-of-00001 (deflated 8%)\n"
          ]
        }
      ]
    },
    {
      "cell_type": "code",
      "source": [
        "files.download(\"model_autokeras.zip\")"
      ],
      "metadata": {
        "colab": {
          "base_uri": "https://localhost:8080/",
          "height": 34
        },
        "id": "SMx1Kv_cA23T",
        "outputId": "ea625749-365b-43d3-bafa-cc163908479c"
      },
      "execution_count": null,
      "outputs": [
        {
          "output_type": "display_data",
          "data": {
            "text/plain": [
              "<IPython.core.display.Javascript object>"
            ],
            "application/javascript": [
              "\n",
              "    async function download(id, filename, size) {\n",
              "      if (!google.colab.kernel.accessAllowed) {\n",
              "        return;\n",
              "      }\n",
              "      const div = document.createElement('div');\n",
              "      const label = document.createElement('label');\n",
              "      label.textContent = `Downloading \"${filename}\": `;\n",
              "      div.appendChild(label);\n",
              "      const progress = document.createElement('progress');\n",
              "      progress.max = size;\n",
              "      div.appendChild(progress);\n",
              "      document.body.appendChild(div);\n",
              "\n",
              "      const buffers = [];\n",
              "      let downloaded = 0;\n",
              "\n",
              "      const channel = await google.colab.kernel.comms.open(id);\n",
              "      // Send a message to notify the kernel that we're ready.\n",
              "      channel.send({})\n",
              "\n",
              "      for await (const message of channel.messages) {\n",
              "        // Send a message to notify the kernel that we're ready.\n",
              "        channel.send({})\n",
              "        if (message.buffers) {\n",
              "          for (const buffer of message.buffers) {\n",
              "            buffers.push(buffer);\n",
              "            downloaded += buffer.byteLength;\n",
              "            progress.value = downloaded;\n",
              "          }\n",
              "        }\n",
              "      }\n",
              "      const blob = new Blob(buffers, {type: 'application/binary'});\n",
              "      const a = document.createElement('a');\n",
              "      a.href = window.URL.createObjectURL(blob);\n",
              "      a.download = filename;\n",
              "      div.appendChild(a);\n",
              "      a.click();\n",
              "      div.remove();\n",
              "    }\n",
              "  "
            ]
          },
          "metadata": {}
        },
        {
          "output_type": "display_data",
          "data": {
            "text/plain": [
              "<IPython.core.display.Javascript object>"
            ],
            "application/javascript": [
              "download(\"download_63836edb-fa71-4e2f-b8b3-933dd05d242d\", \"model_autokeras.zip\", 1931783)"
            ]
          },
          "metadata": {}
        }
      ]
    },
    {
      "cell_type": "markdown",
      "source": [
        "**Commentaires**\n",
        "\n",
        "\n",
        "*   Utiliser un plus grand ensemble de données\n",
        "*   Utiliser un plus grand nombre d'essais avec autokeras\n",
        "*   Produire F1-score. Indication que les classes sont déséquilibrées?\n",
        "\n"
      ],
      "metadata": {
        "id": "4DdI2-xcCOPX"
      }
    },
    {
      "cell_type": "code",
      "source": [],
      "metadata": {
        "id": "uQt3yyS1CiKM"
      },
      "execution_count": null,
      "outputs": []
    }
  ]
}