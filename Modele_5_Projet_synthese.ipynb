{
  "nbformat": 4,
  "nbformat_minor": 0,
  "metadata": {
    "colab": {
      "provenance": [],
      "gpuType": "T4",
      "authorship_tag": "ABX9TyPuPOF6E0B2k5Qk4fc9JAfk",
      "include_colab_link": true
    },
    "kernelspec": {
      "name": "python3",
      "display_name": "Python 3"
    },
    "language_info": {
      "name": "python"
    },
    "accelerator": "GPU"
  },
  "cells": [
    {
      "cell_type": "markdown",
      "metadata": {
        "id": "view-in-github",
        "colab_type": "text"
      },
      "source": [
        "<a href=\"https://colab.research.google.com/github/nambeuch/image-spam-catcher/blob/main/Modele_5_Projet_synthese.ipynb\" target=\"_parent\"><img src=\"https://colab.research.google.com/assets/colab-badge.svg\" alt=\"Open In Colab\"/></a>"
      ]
    },
    {
      "cell_type": "code",
      "execution_count": null,
      "metadata": {
        "id": "6HaegnhPhRbC"
      },
      "outputs": [],
      "source": [
        "# Modèle 5 - Réseau de neurones profonf\n",
        "# par Christian Nambeu\n",
        "# Août 2023\n",
        "# Projet Synthèse: Classification automatisée d'images-pourriels\n",
        "# Utilisation d'Autokeras pour dériver un modèle de neurones profond avec resnetv2"
      ]
    },
    {
      "cell_type": "code",
      "source": [
        "!pip install autokeras"
      ],
      "metadata": {
        "id": "0aEyUp0AhUKd"
      },
      "execution_count": null,
      "outputs": []
    },
    {
      "cell_type": "code",
      "source": [
        "# importer les librairies utiles\n",
        "import numpy as np\n",
        "import tensorflow as tf\n",
        "\n",
        "import autokeras as ak\n",
        "import os\n",
        "from pathlib import Path\n",
        "\n",
        "from tensorflow.keras import backend as K\n",
        "import kerastuner"
      ],
      "metadata": {
        "id": "wD3_FtFLhYHX",
        "colab": {
          "base_uri": "https://localhost:8080/"
        },
        "outputId": "da3b3ed4-ac5a-448c-f952-8387af53527f"
      },
      "execution_count": null,
      "outputs": [
        {
          "output_type": "stream",
          "name": "stdout",
          "text": [
            "Using TensorFlow backend\n"
          ]
        },
        {
          "output_type": "stream",
          "name": "stderr",
          "text": [
            "<ipython-input-3-ebd82f712eb6>:10: DeprecationWarning: `import kerastuner` is deprecated, please use `import keras_tuner`.\n",
            "  import kerastuner\n"
          ]
        }
      ]
    },
    {
      "cell_type": "code",
      "source": [
        "# trouver l'emplacement par défaut\n",
        "print(os.getcwd())"
      ],
      "metadata": {
        "colab": {
          "base_uri": "https://localhost:8080/"
        },
        "id": "Ot-h0gm6hnXU",
        "outputId": "5d073d95-1092-49d9-fb2d-051f1d0c5992"
      },
      "execution_count": null,
      "outputs": [
        {
          "output_type": "stream",
          "name": "stdout",
          "text": [
            "/content\n"
          ]
        }
      ]
    },
    {
      "cell_type": "code",
      "source": [
        "# voir le contenu du répertoire de travail\n",
        "!ls /content"
      ],
      "metadata": {
        "colab": {
          "base_uri": "https://localhost:8080/"
        },
        "id": "X3SbpKdOjBoG",
        "outputId": "b5452970-c7c0-429e-b8a8-e4648c2041f0"
      },
      "execution_count": null,
      "outputs": [
        {
          "output_type": "stream",
          "name": "stdout",
          "text": [
            "sample_data\n"
          ]
        }
      ]
    },
    {
      "cell_type": "code",
      "source": [
        "root = Path(\"/root/.keras/datasets/\")"
      ],
      "metadata": {
        "id": "Jb0_1St3jcOw"
      },
      "execution_count": null,
      "outputs": []
    },
    {
      "cell_type": "code",
      "source": [
        "# télécharger les données sur disque - dans mon cas sous le répertoire /root/  ... dans gcollab\n",
        "\n",
        "# télécharger SPAM\n",
        "import pathlib\n",
        "dataset_url = \"https://www.cs.jhu.edu/~mdredze/datasets/image_spam/personal_image_spam.tar.gz\"\n",
        "tf.keras.utils.get_file(origin=dataset_url, extract=True) # les fichier sont stockés dans le répertoire /.keras/datasets par défaut"
      ],
      "metadata": {
        "colab": {
          "base_uri": "https://localhost:8080/",
          "height": 35
        },
        "id": "d9BpufOuhcjE",
        "outputId": "788de2dc-881f-4e25-de0a-946c61819d8b"
      },
      "execution_count": null,
      "outputs": [
        {
          "output_type": "execute_result",
          "data": {
            "text/plain": [
              "'/root/.keras/datasets/personal_image_spam.tar.gz'"
            ],
            "application/vnd.google.colaboratory.intrinsic+json": {
              "type": "string"
            }
          },
          "metadata": {},
          "execution_count": 7
        }
      ]
    },
    {
      "cell_type": "code",
      "source": [
        "!ls /root/.keras/datasets/"
      ],
      "metadata": {
        "colab": {
          "base_uri": "https://localhost:8080/"
        },
        "id": "CR8Nc0vFuAvR",
        "outputId": "a32073ea-c1c8-4cc4-fafe-2afff5815d50"
      },
      "execution_count": null,
      "outputs": [
        {
          "output_type": "stream",
          "name": "stdout",
          "text": [
            "personal_image_spam  personal_image_spam.tar.gz\n"
          ]
        }
      ]
    },
    {
      "cell_type": "code",
      "source": [
        "# télécharger HAM\n",
        "dataset_url = \"https://www.cs.jhu.edu/~mdredze/datasets/image_spam/personal_image_ham.tar.gz\"\n",
        "tf.keras.utils.get_file(origin=dataset_url, extract=True)\n",
        "#data_dir = pathlib.Path(data_dir).with_suffix('')"
      ],
      "metadata": {
        "colab": {
          "base_uri": "https://localhost:8080/",
          "height": 70
        },
        "id": "-M93zdZtirRD",
        "outputId": "e0ef89af-2497-47e8-e10d-f7a1327375a5"
      },
      "execution_count": null,
      "outputs": [
        {
          "output_type": "stream",
          "name": "stdout",
          "text": [
            "Downloading data from https://www.cs.jhu.edu/~mdredze/datasets/image_spam/personal_image_ham.tar.gz\n",
            "112047863/112047863 [==============================] - 39s 0us/step\n"
          ]
        },
        {
          "output_type": "execute_result",
          "data": {
            "text/plain": [
              "'/root/.keras/datasets/personal_image_ham.tar.gz'"
            ],
            "application/vnd.google.colaboratory.intrinsic+json": {
              "type": "string"
            }
          },
          "metadata": {},
          "execution_count": 9
        }
      ]
    },
    {
      "cell_type": "code",
      "source": [
        "# creer une dossier et copier les deux répertoires dedans\n",
        "!mkdir /root/.keras/datasets/data_image\n",
        "# déplacer le dossier de-zipper personal_image_ham dans le répertoire daa_image\n",
        "!mv /root/.keras/datasets/personal_image_ham/ /root/.keras/datasets/data_image\n",
        "# faire de même pour le dossier personal_image_spam\n",
        "!mv /root/.keras/datasets/personal_image_spam/ /root/.keras/datasets/data_image"
      ],
      "metadata": {
        "id": "-eOWM5PZtKD9"
      },
      "execution_count": null,
      "outputs": []
    },
    {
      "cell_type": "code",
      "source": [
        "# supprimer les dossiers zippés pour faire de l'espace.\n",
        "!rm -r /root/.keras/datasets/personal_image_spam.tar.gz\n",
        "!rm -r /root/.keras/datasets/personal_image_ham.tar.gz"
      ],
      "metadata": {
        "id": "PhKwNQN5jPvj"
      },
      "execution_count": null,
      "outputs": []
    },
    {
      "cell_type": "code",
      "source": [
        "# voir ce qui reste le répertoire datasets de /.keras/datasets\n",
        "!ls /root/.keras/datasets/"
      ],
      "metadata": {
        "colab": {
          "base_uri": "https://localhost:8080/"
        },
        "id": "U_cq19vUj7Ws",
        "outputId": "57724085-01d8-44b3-e3df-9c31d3882b75"
      },
      "execution_count": null,
      "outputs": [
        {
          "output_type": "stream",
          "name": "stdout",
          "text": [
            "data_image\n"
          ]
        }
      ]
    },
    {
      "cell_type": "code",
      "source": [
        "num_skipped = 0\n",
        "# ce bout de code loop sur l'ensemble des images. Les images qui ne sont pas compatibles au format JFIF sont supprimées.\n",
        "# le format JFIF est un standard qui s'applique aux images avec une extension JPEG\n",
        "\n",
        "for folder_name in (\"personal_image_ham\", \"personal_image_spam\"):\n",
        "    folder_path = os.path.join(root,\"data_image\", folder_name)\n",
        "    for fname in os.listdir(folder_path):\n",
        "        fpath = os.path.join(folder_path, fname)\n",
        "        try:\n",
        "            fobj = open(fpath, \"rb\")\n",
        "            is_jfif = tf.compat.as_bytes(\"JFIF\") in fobj.peek(10)\n",
        "        finally:\n",
        "            fobj.close()\n",
        "\n",
        "        if not is_jfif:\n",
        "            num_skipped += 1\n",
        "            # Delete corrupted image\n",
        "            os.remove(fpath)\n",
        "\n",
        "print(\"Deleted %d images\" % num_skipped)"
      ],
      "metadata": {
        "colab": {
          "base_uri": "https://localhost:8080/"
        },
        "id": "vgOVugx9kDKq",
        "outputId": "81339258-8a73-42fa-8864-fe18a49f8beb"
      },
      "execution_count": null,
      "outputs": [
        {
          "output_type": "stream",
          "name": "stdout",
          "text": [
            "Deleted 3992 images\n"
          ]
        }
      ]
    },
    {
      "cell_type": "code",
      "source": [
        "# dimensions de l'image et le nombre de lots\n",
        "image_size = (180, 180)\n",
        "batch_size = 64"
      ],
      "metadata": {
        "id": "MsFQdv4_kTLl"
      },
      "execution_count": null,
      "outputs": []
    },
    {
      "cell_type": "code",
      "source": [
        "# sélection de l'ensemble d'apprentissage\n",
        "train_ds = ak.image_dataset_from_directory(\n",
        "    \"/root/.keras/datasets/data_image\",\n",
        "    validation_split=0.2,\n",
        "    subset=\"training\",\n",
        "    seed=1337,\n",
        "    image_size=image_size,\n",
        "    batch_size=batch_size,\n",
        ")"
      ],
      "metadata": {
        "colab": {
          "base_uri": "https://localhost:8080/"
        },
        "id": "JXBSesj3kb89",
        "outputId": "9849a651-917f-4131-9b7f-a5dab53979ec"
      },
      "execution_count": null,
      "outputs": [
        {
          "output_type": "stream",
          "name": "stdout",
          "text": [
            "Found 1281 files belonging to 2 classes.\n",
            "Using 1025 files for training.\n"
          ]
        }
      ]
    },
    {
      "cell_type": "code",
      "source": [
        "# sélection de l'ensemble test/validation\n",
        "val_ds = ak.image_dataset_from_directory(\n",
        "    \"/root/.keras/datasets/data_image\",\n",
        "    validation_split=0.2,\n",
        "    subset=\"validation\",\n",
        "    seed=1337,\n",
        "    image_size=image_size,\n",
        "    batch_size=batch_size,\n",
        ")"
      ],
      "metadata": {
        "colab": {
          "base_uri": "https://localhost:8080/"
        },
        "id": "MDu8iBoUkhIG",
        "outputId": "4e402cf7-c9d8-4e9f-eff8-ea0e7590b1c7"
      },
      "execution_count": null,
      "outputs": [
        {
          "output_type": "stream",
          "name": "stdout",
          "text": [
            "Found 1281 files belonging to 2 classes.\n",
            "Using 256 files for validation.\n"
          ]
        }
      ]
    },
    {
      "cell_type": "code",
      "source": [
        "input_node = ak.ImageInput()"
      ],
      "metadata": {
        "id": "5myvhu3IIT5_"
      },
      "execution_count": null,
      "outputs": []
    },
    {
      "cell_type": "code",
      "source": [
        "output_node = ak.Normalization()(input_node)\n",
        "output_node1 = ak.ConvBlock()(output_node)\n",
        "output_node2 = ak.ResNetBlock(version=\"v2\")(output_node)\n",
        "output_node = ak.Merge()([output_node1, output_node2])\n",
        "output_node = ak.ClassificationHead()(output_node)"
      ],
      "metadata": {
        "id": "nvbg24688xb2"
      },
      "execution_count": null,
      "outputs": []
    },
    {
      "cell_type": "code",
      "source": [
        "clf = ak.AutoModel(\n",
        "    inputs=input_node, outputs=output_node, overwrite=True, max_trials= 5\n",
        ")"
      ],
      "metadata": {
        "id": "FUVtHCw1IUQG"
      },
      "execution_count": null,
      "outputs": []
    },
    {
      "cell_type": "code",
      "source": [
        "clf.fit(train_ds, epochs=10)"
      ],
      "metadata": {
        "colab": {
          "base_uri": "https://localhost:8080/"
        },
        "id": "I47i5DJtIhLi",
        "outputId": "631bde89-5016-4ff8-dc87-6c8091dfef23"
      },
      "execution_count": null,
      "outputs": [
        {
          "output_type": "stream",
          "name": "stdout",
          "text": [
            "Trial 5 Complete [00h 03m 33s]\n",
            "val_loss: 803861.8125\n",
            "\n",
            "Best val_loss So Far: 1.6637357473373413\n",
            "Total elapsed time: 00h 20m 26s\n",
            "Epoch 1/10\n",
            "17/17 [==============================] - 45s 689ms/step - loss: 1986.9264 - accuracy: 0.8907\n",
            "Epoch 2/10\n",
            "17/17 [==============================] - 14s 786ms/step - loss: 6.3245 - accuracy: 0.9093\n",
            "Epoch 3/10\n",
            "17/17 [==============================] - 14s 795ms/step - loss: 0.6256 - accuracy: 0.9093\n",
            "Epoch 4/10\n",
            "17/17 [==============================] - 14s 804ms/step - loss: 0.2574 - accuracy: 0.9093\n",
            "Epoch 5/10\n",
            "17/17 [==============================] - 12s 687ms/step - loss: 0.2200 - accuracy: 0.9239\n",
            "Epoch 6/10\n",
            "17/17 [==============================] - 13s 693ms/step - loss: 0.2199 - accuracy: 0.9337\n",
            "Epoch 7/10\n",
            "17/17 [==============================] - 14s 795ms/step - loss: 0.2152 - accuracy: 0.9317\n",
            "Epoch 8/10\n",
            "17/17 [==============================] - 13s 672ms/step - loss: 0.1685 - accuracy: 0.9454\n",
            "Epoch 9/10\n",
            "17/17 [==============================] - 14s 754ms/step - loss: 0.1557 - accuracy: 0.9444\n",
            "Epoch 10/10\n",
            "17/17 [==============================] - 14s 787ms/step - loss: 0.1439 - accuracy: 0.9580\n"
          ]
        },
        {
          "output_type": "execute_result",
          "data": {
            "text/plain": [
              "<keras.src.callbacks.History at 0x78995979ace0>"
            ]
          },
          "metadata": {},
          "execution_count": 20
        }
      ]
    },
    {
      "cell_type": "code",
      "source": [
        "clf"
      ],
      "metadata": {
        "colab": {
          "base_uri": "https://localhost:8080/"
        },
        "id": "TYUepwVUpiOs",
        "outputId": "aa69a66a-af46-4bac-c6f5-90a104a22dc5"
      },
      "execution_count": null,
      "outputs": [
        {
          "output_type": "execute_result",
          "data": {
            "text/plain": [
              "<autokeras.auto_model.AutoModel at 0x7899f7829660>"
            ]
          },
          "metadata": {},
          "execution_count": 21
        }
      ]
    },
    {
      "cell_type": "code",
      "source": [
        "#  initialisation du classificateur d'images\n",
        "#clf = ak.ImageClassifier(overwrite=True, max_trials=1, project_name= \"Image-Spam\")"
      ],
      "metadata": {
        "id": "rKlF903AknIu"
      },
      "execution_count": null,
      "outputs": []
    },
    {
      "cell_type": "code",
      "source": [
        "# ajuster le classificateur avec les échantillons d'apprentissage\n",
        "#clf.fit(train_ds, epochs=5)"
      ],
      "metadata": {
        "id": "iqMxicsQk2yo"
      },
      "execution_count": null,
      "outputs": []
    },
    {
      "cell_type": "code",
      "source": [
        "# prédiction avec le meilleur modèle\n",
        "predicted_y = clf.predict(val_ds)\n",
        "print(predicted_y)"
      ],
      "metadata": {
        "id": "nVluW_6wlB0B",
        "colab": {
          "base_uri": "https://localhost:8080/"
        },
        "outputId": "4dc2b583-afc9-4ac4-96eb-ef993d3c3008"
      },
      "execution_count": null,
      "outputs": [
        {
          "output_type": "stream",
          "name": "stdout",
          "text": [
            "4/4 [==============================] - 2s 181ms/step\n",
            "4/4 [==============================] - 1s 153ms/step\n",
            "[['personal_image_ham']\n",
            " ['personal_image_ham']\n",
            " ['personal_image_ham']\n",
            " ['personal_image_ham']\n",
            " ['personal_image_ham']\n",
            " ['personal_image_ham']\n",
            " ['personal_image_ham']\n",
            " ['personal_image_ham']\n",
            " ['personal_image_ham']\n",
            " ['personal_image_ham']\n",
            " ['personal_image_ham']\n",
            " ['personal_image_ham']\n",
            " ['personal_image_ham']\n",
            " ['personal_image_ham']\n",
            " ['personal_image_ham']\n",
            " ['personal_image_ham']\n",
            " ['personal_image_ham']\n",
            " ['personal_image_ham']\n",
            " ['personal_image_ham']\n",
            " ['personal_image_ham']\n",
            " ['personal_image_ham']\n",
            " ['personal_image_ham']\n",
            " ['personal_image_ham']\n",
            " ['personal_image_ham']\n",
            " ['personal_image_ham']\n",
            " ['personal_image_ham']\n",
            " ['personal_image_ham']\n",
            " ['personal_image_ham']\n",
            " ['personal_image_ham']\n",
            " ['personal_image_ham']\n",
            " ['personal_image_ham']\n",
            " ['personal_image_ham']\n",
            " ['personal_image_ham']\n",
            " ['personal_image_ham']\n",
            " ['personal_image_ham']\n",
            " ['personal_image_ham']\n",
            " ['personal_image_ham']\n",
            " ['personal_image_ham']\n",
            " ['personal_image_ham']\n",
            " ['personal_image_ham']\n",
            " ['personal_image_ham']\n",
            " ['personal_image_ham']\n",
            " ['personal_image_ham']\n",
            " ['personal_image_ham']\n",
            " ['personal_image_ham']\n",
            " ['personal_image_ham']\n",
            " ['personal_image_ham']\n",
            " ['personal_image_ham']\n",
            " ['personal_image_ham']\n",
            " ['personal_image_ham']\n",
            " ['personal_image_ham']\n",
            " ['personal_image_ham']\n",
            " ['personal_image_ham']\n",
            " ['personal_image_ham']\n",
            " ['personal_image_ham']\n",
            " ['personal_image_ham']\n",
            " ['personal_image_ham']\n",
            " ['personal_image_ham']\n",
            " ['personal_image_ham']\n",
            " ['personal_image_ham']\n",
            " ['personal_image_ham']\n",
            " ['personal_image_ham']\n",
            " ['personal_image_ham']\n",
            " ['personal_image_ham']\n",
            " ['personal_image_ham']\n",
            " ['personal_image_ham']\n",
            " ['personal_image_ham']\n",
            " ['personal_image_ham']\n",
            " ['personal_image_ham']\n",
            " ['personal_image_ham']\n",
            " ['personal_image_ham']\n",
            " ['personal_image_ham']\n",
            " ['personal_image_ham']\n",
            " ['personal_image_ham']\n",
            " ['personal_image_ham']\n",
            " ['personal_image_ham']\n",
            " ['personal_image_ham']\n",
            " ['personal_image_ham']\n",
            " ['personal_image_ham']\n",
            " ['personal_image_ham']\n",
            " ['personal_image_ham']\n",
            " ['personal_image_ham']\n",
            " ['personal_image_ham']\n",
            " ['personal_image_ham']\n",
            " ['personal_image_ham']\n",
            " ['personal_image_ham']\n",
            " ['personal_image_ham']\n",
            " ['personal_image_ham']\n",
            " ['personal_image_ham']\n",
            " ['personal_image_ham']\n",
            " ['personal_image_ham']\n",
            " ['personal_image_ham']\n",
            " ['personal_image_ham']\n",
            " ['personal_image_ham']\n",
            " ['personal_image_ham']\n",
            " ['personal_image_ham']\n",
            " ['personal_image_ham']\n",
            " ['personal_image_ham']\n",
            " ['personal_image_ham']\n",
            " ['personal_image_ham']\n",
            " ['personal_image_ham']\n",
            " ['personal_image_ham']\n",
            " ['personal_image_ham']\n",
            " ['personal_image_ham']\n",
            " ['personal_image_ham']\n",
            " ['personal_image_ham']\n",
            " ['personal_image_ham']\n",
            " ['personal_image_ham']\n",
            " ['personal_image_ham']\n",
            " ['personal_image_ham']\n",
            " ['personal_image_ham']\n",
            " ['personal_image_ham']\n",
            " ['personal_image_ham']\n",
            " ['personal_image_ham']\n",
            " ['personal_image_ham']\n",
            " ['personal_image_ham']\n",
            " ['personal_image_ham']\n",
            " ['personal_image_ham']\n",
            " ['personal_image_ham']\n",
            " ['personal_image_ham']\n",
            " ['personal_image_ham']\n",
            " ['personal_image_ham']\n",
            " ['personal_image_ham']\n",
            " ['personal_image_ham']\n",
            " ['personal_image_ham']\n",
            " ['personal_image_ham']\n",
            " ['personal_image_ham']\n",
            " ['personal_image_ham']\n",
            " ['personal_image_ham']\n",
            " ['personal_image_ham']\n",
            " ['personal_image_ham']\n",
            " ['personal_image_ham']\n",
            " ['personal_image_ham']\n",
            " ['personal_image_ham']\n",
            " ['personal_image_ham']\n",
            " ['personal_image_ham']\n",
            " ['personal_image_ham']\n",
            " ['personal_image_ham']\n",
            " ['personal_image_ham']\n",
            " ['personal_image_ham']\n",
            " ['personal_image_ham']\n",
            " ['personal_image_ham']\n",
            " ['personal_image_ham']\n",
            " ['personal_image_ham']\n",
            " ['personal_image_ham']\n",
            " ['personal_image_ham']\n",
            " ['personal_image_ham']\n",
            " ['personal_image_ham']\n",
            " ['personal_image_ham']\n",
            " ['personal_image_ham']\n",
            " ['personal_image_ham']\n",
            " ['personal_image_ham']\n",
            " ['personal_image_ham']\n",
            " ['personal_image_ham']\n",
            " ['personal_image_ham']\n",
            " ['personal_image_ham']\n",
            " ['personal_image_ham']\n",
            " ['personal_image_ham']\n",
            " ['personal_image_ham']\n",
            " ['personal_image_ham']\n",
            " ['personal_image_ham']\n",
            " ['personal_image_ham']\n",
            " ['personal_image_ham']\n",
            " ['personal_image_ham']\n",
            " ['personal_image_ham']\n",
            " ['personal_image_ham']\n",
            " ['personal_image_ham']\n",
            " ['personal_image_ham']\n",
            " ['personal_image_ham']\n",
            " ['personal_image_ham']\n",
            " ['personal_image_ham']\n",
            " ['personal_image_ham']\n",
            " ['personal_image_ham']\n",
            " ['personal_image_ham']\n",
            " ['personal_image_ham']\n",
            " ['personal_image_ham']\n",
            " ['personal_image_ham']\n",
            " ['personal_image_ham']\n",
            " ['personal_image_ham']\n",
            " ['personal_image_ham']\n",
            " ['personal_image_ham']\n",
            " ['personal_image_ham']\n",
            " ['personal_image_ham']\n",
            " ['personal_image_ham']\n",
            " ['personal_image_ham']\n",
            " ['personal_image_ham']\n",
            " ['personal_image_ham']\n",
            " ['personal_image_ham']\n",
            " ['personal_image_ham']\n",
            " ['personal_image_ham']\n",
            " ['personal_image_ham']\n",
            " ['personal_image_ham']\n",
            " ['personal_image_ham']\n",
            " ['personal_image_ham']\n",
            " ['personal_image_ham']\n",
            " ['personal_image_ham']\n",
            " ['personal_image_ham']\n",
            " ['personal_image_ham']\n",
            " ['personal_image_ham']\n",
            " ['personal_image_ham']\n",
            " ['personal_image_ham']\n",
            " ['personal_image_ham']\n",
            " ['personal_image_ham']\n",
            " ['personal_image_ham']\n",
            " ['personal_image_ham']\n",
            " ['personal_image_ham']\n",
            " ['personal_image_ham']\n",
            " ['personal_image_ham']\n",
            " ['personal_image_ham']\n",
            " ['personal_image_ham']\n",
            " ['personal_image_ham']\n",
            " ['personal_image_ham']\n",
            " ['personal_image_ham']\n",
            " ['personal_image_ham']\n",
            " ['personal_image_ham']\n",
            " ['personal_image_ham']\n",
            " ['personal_image_ham']\n",
            " ['personal_image_ham']\n",
            " ['personal_image_ham']\n",
            " ['personal_image_ham']\n",
            " ['personal_image_ham']\n",
            " ['personal_image_ham']\n",
            " ['personal_image_ham']\n",
            " ['personal_image_ham']\n",
            " ['personal_image_ham']\n",
            " ['personal_image_ham']\n",
            " ['personal_image_ham']\n",
            " ['personal_image_ham']\n",
            " ['personal_image_ham']\n",
            " ['personal_image_ham']\n",
            " ['personal_image_ham']\n",
            " ['personal_image_ham']\n",
            " ['personal_image_ham']\n",
            " ['personal_image_ham']\n",
            " ['personal_image_ham']\n",
            " ['personal_image_ham']\n",
            " ['personal_image_ham']\n",
            " ['personal_image_ham']\n",
            " ['personal_image_ham']\n",
            " ['personal_image_ham']\n",
            " ['personal_image_ham']\n",
            " ['personal_image_ham']\n",
            " ['personal_image_ham']\n",
            " ['personal_image_ham']\n",
            " ['personal_image_ham']\n",
            " ['personal_image_ham']\n",
            " ['personal_image_ham']\n",
            " ['personal_image_ham']\n",
            " ['personal_image_ham']\n",
            " ['personal_image_ham']\n",
            " ['personal_image_ham']\n",
            " ['personal_image_ham']\n",
            " ['personal_image_ham']\n",
            " ['personal_image_ham']\n",
            " ['personal_image_ham']\n",
            " ['personal_image_ham']]\n"
          ]
        }
      ]
    },
    {
      "cell_type": "code",
      "source": [
        "# Évaluation du meilleur modèle - Les différentes métriques sont calculées.\n",
        "print(clf.evaluate(val_ds))"
      ],
      "metadata": {
        "colab": {
          "base_uri": "https://localhost:8080/"
        },
        "id": "3Ux2_QXqlPvJ",
        "outputId": "90a2f4ab-dcb1-43ae-c0bf-7b686c669e2c"
      },
      "execution_count": null,
      "outputs": [
        {
          "output_type": "stream",
          "name": "stdout",
          "text": [
            "4/4 [==============================] - 4s 159ms/step - loss: 89265.0469 - accuracy: 0.9062\n",
            "[89265.046875, 0.90625]\n"
          ]
        }
      ]
    },
    {
      "cell_type": "code",
      "source": [
        "# exporter le modèle\n",
        "model = clf.export_model()"
      ],
      "metadata": {
        "id": "uKTisnb1mY8i"
      },
      "execution_count": null,
      "outputs": []
    },
    {
      "cell_type": "code",
      "source": [],
      "metadata": {
        "id": "-5qHNhWcmZJZ"
      },
      "execution_count": null,
      "outputs": []
    },
    {
      "cell_type": "markdown",
      "source": [
        "Utilisation du modèle"
      ],
      "metadata": {
        "id": "n6E2s6n9mdGz"
      }
    },
    {
      "cell_type": "code",
      "source": [
        "# les images se trouvent dans /root/.keras/datasets/personal_image_ham et ----/--spam\n",
        "import random\n",
        "def load_randomly_image(folder_path, image_size):\n",
        "  file_paths = []\n",
        "  if os.path.exists(folder_path) and os.path.isdir(folder_path):\n",
        "        for root, dirs, files in os.walk(folder_path):\n",
        "            for file in files:\n",
        "                file_paths.append(os.path.join(root, file))\n",
        "  else:\n",
        "        print(\"Folder path does not exist or is not a directory.\")\n",
        "\n",
        "  list_length = len(file_paths)\n",
        "  random_num = random.randint(1, list_length)\n",
        "  a = file_paths[random_num]\n",
        "  pick_path = os.path.join(a)\n",
        "  # get the names of all the files in the folder\n",
        "  img = tf.keras.utils.load_img(\n",
        "    pick_path, target_size=image_size\n",
        "  )\n",
        "  return img"
      ],
      "metadata": {
        "id": "QkJDpj4mme0Q"
      },
      "execution_count": null,
      "outputs": []
    },
    {
      "cell_type": "code",
      "source": [
        "load_randomly_image(\"/root/.keras/datasets/data_image/personal_image_ham\", image_size = image_size)"
      ],
      "metadata": {
        "colab": {
          "base_uri": "https://localhost:8080/",
          "height": 197
        },
        "id": "n8dYoPz4qD5Z",
        "outputId": "d99f6dbc-99f9-49cd-d833-6788e970617d"
      },
      "execution_count": null,
      "outputs": [
        {
          "output_type": "execute_result",
          "data": {
            "text/plain": [
              "<PIL.Image.Image image mode=RGB size=180x180>"
            ],
            "image/png": "[encoded data removed]"
          },
          "metadata": {},
          "execution_count": 28
        }
      ]
    },
    {
      "cell_type": "code",
      "source": [
        "img_ham = load_randomly_image(\"/root/.keras/datasets/data_image/personal_image_ham\", image_size = image_size)\n",
        "img_spam = load_randomly_image(\"/root/.keras/datasets/data_image/personal_image_spam\", image_size = image_size)"
      ],
      "metadata": {
        "id": "cZqBiwEzqQ3T"
      },
      "execution_count": null,
      "outputs": []
    },
    {
      "cell_type": "code",
      "source": [
        "# convertir l'image en array - HAM\n",
        "img_array = tf.keras.utils.img_to_array(img_ham)\n",
        "img_array = tf.expand_dims(img_array, 0)  # Create batch axis"
      ],
      "metadata": {
        "id": "FxpAX-ZAriti"
      },
      "execution_count": null,
      "outputs": []
    },
    {
      "cell_type": "code",
      "source": [
        "#faire des prédictions avec le meilleur modèle pour un HAM\n",
        "print(\"Vraie valeur HAM\")\n",
        "predictions = model.predict(img_array)\n",
        "probability = float(predictions[0])\n",
        "print(f\"This image is {100 * (1 - probability):.2f}% ham and {100 * probability:.2f}% spam.\")"
      ],
      "metadata": {
        "colab": {
          "base_uri": "https://localhost:8080/"
        },
        "id": "TF-RrM_irspa",
        "outputId": "58ca01d0-8b4b-457a-af4d-236ccf03a578"
      },
      "execution_count": null,
      "outputs": [
        {
          "output_type": "stream",
          "name": "stdout",
          "text": [
            "Vraie valeur HAM\n",
            "1/1 [==============================] - 0s 27ms/step\n",
            "This image is 100.00% ham and 0.00% spam.\n"
          ]
        }
      ]
    },
    {
      "cell_type": "code",
      "source": [
        "# convertir l'image en array - spam\n",
        "img_array = tf.keras.utils.img_to_array(img_spam)\n",
        "img_array = tf.expand_dims(img_array, 0)  # Create batch axis"
      ],
      "metadata": {
        "id": "Lz7H45D7sDze"
      },
      "execution_count": null,
      "outputs": []
    },
    {
      "cell_type": "code",
      "source": [
        "print(\"Vraie valeur SPAM\")\n",
        "predictions = model.predict(img_array)\n",
        "probability = float(predictions[0])\n",
        "print(f\"This image is {100 * (1 - probability):.2f}% ham and {100 * probability:.2f}% spam.\")"
      ],
      "metadata": {
        "colab": {
          "base_uri": "https://localhost:8080/"
        },
        "id": "5GaIO9V_sPQf",
        "outputId": "278ba244-bd3d-44df-9dd7-679efbbee886"
      },
      "execution_count": null,
      "outputs": [
        {
          "output_type": "stream",
          "name": "stdout",
          "text": [
            "Vraie valeur SPAM\n",
            "1/1 [==============================] - 0s 44ms/step\n",
            "This image is 100.00% ham and 0.00% spam.\n"
          ]
        }
      ]
    },
    {
      "cell_type": "code",
      "source": [
        "img_spam"
      ],
      "metadata": {
        "colab": {
          "base_uri": "https://localhost:8080/",
          "height": 197
        },
        "id": "zsYyk9nF5mmp",
        "outputId": "58f02268-9954-407a-c4a3-e358cb11b442"
      },
      "execution_count": null,
      "outputs": [
        {
          "output_type": "execute_result",
          "data": {
            "text/plain": [
              "<PIL.Image.Image image mode=RGB size=180x180>"
            ],
            "image/png": "[encoded data removed]"
          },
          "metadata": {},
          "execution_count": 34
        }
      ]
    },
    {
      "cell_type": "code",
      "source": [
        "img_ham"
      ],
      "metadata": {
        "colab": {
          "base_uri": "https://localhost:8080/",
          "height": 197
        },
        "id": "MOawlK785nxv",
        "outputId": "25354d7e-4eb7-4928-b1d1-f2d5bb5c463e"
      },
      "execution_count": null,
      "outputs": [
        {
          "output_type": "execute_result",
          "data": {
            "text/plain": [
              "<PIL.Image.Image image mode=RGB size=180x180>"
            ],
            "image/png": "[encoded data removed]"
          },
          "metadata": {},
          "execution_count": 35
        }
      ]
    },
    {
      "cell_type": "code",
      "source": [],
      "metadata": {
        "id": "rKL6AqIM5vmf"
      },
      "execution_count": null,
      "outputs": []
    },
    {
      "cell_type": "markdown",
      "source": [
        "Résumé du modèle obtenu"
      ],
      "metadata": {
        "id": "_nw4oo767j-l"
      }
    },
    {
      "cell_type": "code",
      "source": [
        "# sauvegarde du meilleur modèle\n",
        "model.save(\"model_autokeras\", save_format = \"tf\")"
      ],
      "metadata": {
        "id": "QUEnP_KE7nID"
      },
      "execution_count": null,
      "outputs": []
    },
    {
      "cell_type": "code",
      "source": [
        "# tester si le modèle sauvegardé peut être utilisé\n",
        "from tensorflow.keras.models import load_model"
      ],
      "metadata": {
        "id": "hkhd0awQ78Hf"
      },
      "execution_count": null,
      "outputs": []
    },
    {
      "cell_type": "code",
      "source": [
        "def getPrediction(image):\n",
        "  # load le modèle\n",
        "  loaded_model = load_model(\"model_autokeras\", custom_objects=ak.CUSTOM_OBJECTS) # on télécharge avec les objets customisés\n",
        "  # convertit les features en array\n",
        "  img_array = tf.keras.utils.img_to_array(image)\n",
        "  img_array = tf.expand_dims(img_array, 0)  # Create batch axis\n",
        "\n",
        "  predictions = model.predict(img_array) # obtient la probabilité spam\n",
        "  probability = float(predictions[0])\n",
        "  print(f\"This image is {100 * (1 - probability):.2f}% ham and {100 * probability:.2f}% spam.\")\n",
        "  return (probability > 0.5, probability)"
      ],
      "metadata": {
        "id": "DctTdngx88x6"
      },
      "execution_count": null,
      "outputs": []
    },
    {
      "cell_type": "code",
      "source": [
        "result = getPrediction(img_spam)"
      ],
      "metadata": {
        "colab": {
          "base_uri": "https://localhost:8080/"
        },
        "id": "HqeYyQjd91CH",
        "outputId": "c098c4cd-ace8-432b-bb29-d78f7be2be8b"
      },
      "execution_count": null,
      "outputs": [
        {
          "output_type": "stream",
          "name": "stdout",
          "text": [
            "1/1 [==============================] - 0s 29ms/step\n",
            "This image is 100.00% ham and 0.00% spam.\n"
          ]
        }
      ]
    },
    {
      "cell_type": "code",
      "source": [
        "print(result)"
      ],
      "metadata": {
        "colab": {
          "base_uri": "https://localhost:8080/"
        },
        "id": "Arl5XrRu-f-I",
        "outputId": "dc3512d8-44df-4407-cc50-d4dc3ef7f6a4"
      },
      "execution_count": null,
      "outputs": [
        {
          "output_type": "stream",
          "name": "stdout",
          "text": [
            "(False, 0.0)\n"
          ]
        }
      ]
    },
    {
      "cell_type": "code",
      "source": [
        "# Architecture du modèle\n",
        "model.summary()"
      ],
      "metadata": {
        "colab": {
          "base_uri": "https://localhost:8080/"
        },
        "id": "j1rzVHDv-g5N",
        "outputId": "cbfb3824-9509-4d84-b884-a20821839348"
      },
      "execution_count": null,
      "outputs": [
        {
          "output_type": "stream",
          "name": "stdout",
          "text": [
            "Model: \"model\"\n",
            "__________________________________________________________________________________________________\n",
            " Layer (type)                Output Shape                 Param #   Connected to                  \n",
            "==================================================================================================\n",
            " input_1 (InputLayer)        [(None, 180, 180, 3)]        0         []                            \n",
            "                                                                                                  \n",
            " cast_to_float32 (CastToFlo  (None, 180, 180, 3)          0         ['input_1[0][0]']             \n",
            " at32)                                                                                            \n",
            "                                                                                                  \n",
            " normalization (Normalizati  (None, 180, 180, 3)          7         ['cast_to_float32[0][0]']     \n",
            " on)                                                                                              \n",
            "                                                                                                  \n",
            " conv2d (Conv2D)             (None, 178, 178, 32)         896       ['normalization[0][0]']       \n",
            "                                                                                                  \n",
            " conv2d_1 (Conv2D)           (None, 176, 176, 32)         9248      ['conv2d[0][0]']              \n",
            "                                                                                                  \n",
            " max_pooling2d (MaxPooling2  (None, 88, 88, 32)           0         ['conv2d_1[0][0]']            \n",
            " D)                                                                                               \n",
            "                                                                                                  \n",
            " resnet50v2 (Functional)     (None, 6, 6, 2048)           2356480   ['normalization[0][0]']       \n",
            "                                                          0                                       \n",
            "                                                                                                  \n",
            " flatten (Flatten)           (None, 247808)               0         ['max_pooling2d[0][0]']       \n",
            "                                                                                                  \n",
            " flatten_1 (Flatten)         (None, 73728)                0         ['resnet50v2[0][0]']          \n",
            "                                                                                                  \n",
            " concatenate (Concatenate)   (None, 321536)               0         ['flatten[0][0]',             \n",
            "                                                                     'flatten_1[0][0]']           \n",
            "                                                                                                  \n",
            " dense (Dense)               (None, 1)                    321537    ['concatenate[0][0]']         \n",
            "                                                                                                  \n",
            " classification_head_1 (Act  (None, 1)                    0         ['dense[0][0]']               \n",
            " ivation)                                                                                         \n",
            "                                                                                                  \n",
            "==================================================================================================\n",
            "Total params: 23896488 (91.16 MB)\n",
            "Trainable params: 23851041 (90.98 MB)\n",
            "Non-trainable params: 45447 (177.53 KB)\n",
            "__________________________________________________________________________________________________\n"
          ]
        }
      ]
    },
    {
      "cell_type": "code",
      "source": [
        "# sauvegarder le modèle localement pour le déploiement sur le web.\n",
        "# noter que le modèle est enregistré dans un dossier non-zippé - et pas facile de le copier localement facilement\n",
        "# je vais le zipper et ensuite le copier sur ma machine localement et ensuite préparer les fichiers pour Keroku.\n",
        "\n",
        "from google.colab import files\n",
        "\n",
        "!zip /content/model_autokeras.zip /content/model_autokeras/"
      ],
      "metadata": {
        "colab": {
          "base_uri": "https://localhost:8080/"
        },
        "id": "I9icpVQR-vVO",
        "outputId": "c7fece94-1e28-470a-bbe4-c984af5892b8"
      },
      "execution_count": null,
      "outputs": [
        {
          "output_type": "stream",
          "name": "stdout",
          "text": [
            "  adding: content/model_autokeras/ (stored 0%)\n"
          ]
        }
      ]
    },
    {
      "cell_type": "code",
      "source": [
        "# saved as mode_autokeras4\n",
        "files.download(\"model_autokeras.zip\")"
      ],
      "metadata": {
        "colab": {
          "base_uri": "https://localhost:8080/",
          "height": 17
        },
        "id": "SMx1Kv_cA23T",
        "outputId": "a9302a83-331b-4fb3-a4fa-ca2d8882b8b6"
      },
      "execution_count": null,
      "outputs": [
        {
          "output_type": "display_data",
          "data": {
            "text/plain": [
              "<IPython.core.display.Javascript object>"
            ],
            "application/javascript": [
              "\n",
              "    async function download(id, filename, size) {\n",
              "      if (!google.colab.kernel.accessAllowed) {\n",
              "        return;\n",
              "      }\n",
              "      const div = document.createElement('div');\n",
              "      const label = document.createElement('label');\n",
              "      label.textContent = `Downloading \"${filename}\": `;\n",
              "      div.appendChild(label);\n",
              "      const progress = document.createElement('progress');\n",
              "      progress.max = size;\n",
              "      div.appendChild(progress);\n",
              "      document.body.appendChild(div);\n",
              "\n",
              "      const buffers = [];\n",
              "      let downloaded = 0;\n",
              "\n",
              "      const channel = await google.colab.kernel.comms.open(id);\n",
              "      // Send a message to notify the kernel that we're ready.\n",
              "      channel.send({})\n",
              "\n",
              "      for await (const message of channel.messages) {\n",
              "        // Send a message to notify the kernel that we're ready.\n",
              "        channel.send({})\n",
              "        if (message.buffers) {\n",
              "          for (const buffer of message.buffers) {\n",
              "            buffers.push(buffer);\n",
              "            downloaded += buffer.byteLength;\n",
              "            progress.value = downloaded;\n",
              "          }\n",
              "        }\n",
              "      }\n",
              "      const blob = new Blob(buffers, {type: 'application/binary'});\n",
              "      const a = document.createElement('a');\n",
              "      a.href = window.URL.createObjectURL(blob);\n",
              "      a.download = filename;\n",
              "      div.appendChild(a);\n",
              "      a.click();\n",
              "      div.remove();\n",
              "    }\n",
              "  "
            ]
          },
          "metadata": {}
        },
        {
          "output_type": "display_data",
          "data": {
            "text/plain": [
              "<IPython.core.display.Javascript object>"
            ],
            "application/javascript": [
              "download(\"download_869b3ffa-4a16-4910-9a2a-f2899e6cc91c\", \"model_autokeras.zip\", 198)"
            ]
          },
          "metadata": {}
        }
      ]
    },
    {
      "cell_type": "markdown",
      "source": [
        "**Commentaires**\n",
        "\n",
        "\n",
        "*   Utiliser un plus grand ensemble de données\n",
        "*   Utiliser un plus grand nombre d'essais avec autokeras\n",
        "*   Produire F1-score. Indication que les classes sont déséquilibrées?\n",
        "\n"
      ],
      "metadata": {
        "id": "4DdI2-xcCOPX"
      }
    },
    {
      "cell_type": "code",
      "source": [],
      "metadata": {
        "id": "uQt3yyS1CiKM"
      },
      "execution_count": null,
      "outputs": []
    }
  ]
}